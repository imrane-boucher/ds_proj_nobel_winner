{
 "cells": [
  {
   "cell_type": "markdown",
   "metadata": {},
   "source": [
    "# Exploratory data analysis & feature engeenering"
   ]
  },
  {
   "cell_type": "markdown",
   "metadata": {},
   "source": [
    "### Necessary librairies"
   ]
  },
  {
   "cell_type": "code",
   "execution_count": 50,
   "metadata": {},
   "outputs": [],
   "source": [
    "import pandas as pd\n",
    "import matplotlib.pyplot as plt\n",
    "import seaborn as sns\n",
    "import numpy as np\n",
    "import sys\n",
    "%matplotlib inline"
   ]
  },
  {
   "cell_type": "markdown",
   "metadata": {},
   "source": [
    "### Import data"
   ]
  },
  {
   "cell_type": "code",
   "execution_count": 3,
   "metadata": {},
   "outputs": [],
   "source": [
    "df_data = pd.read_csv('data/working_data.csv')"
   ]
  },
  {
   "cell_type": "code",
   "execution_count": 6,
   "metadata": {
    "scrolled": true
   },
   "outputs": [
    {
     "data": {
      "text/html": [
       "<div>\n",
       "<style scoped>\n",
       "    .dataframe tbody tr th:only-of-type {\n",
       "        vertical-align: middle;\n",
       "    }\n",
       "\n",
       "    .dataframe tbody tr th {\n",
       "        vertical-align: top;\n",
       "    }\n",
       "\n",
       "    .dataframe thead th {\n",
       "        text-align: right;\n",
       "    }\n",
       "</style>\n",
       "<table border=\"1\" class=\"dataframe\">\n",
       "  <thead>\n",
       "    <tr style=\"text-align: right;\">\n",
       "      <th></th>\n",
       "      <th>nb_downl</th>\n",
       "      <th>Surname</th>\n",
       "      <th>First</th>\n",
       "      <th>nb_pages</th>\n",
       "      <th>Author_clean</th>\n",
       "      <th>Students</th>\n",
       "      <th>nb_works</th>\n",
       "      <th>h_index</th>\n",
       "      <th>Author</th>\n",
       "      <th>nb_cit</th>\n",
       "      <th>vn_award</th>\n",
       "      <th>clark</th>\n",
       "      <th>nobel</th>\n",
       "      <th>Country</th>\n",
       "      <th>top10_shangai_yn</th>\n",
       "    </tr>\n",
       "  </thead>\n",
       "  <tbody>\n",
       "    <tr>\n",
       "      <th>0</th>\n",
       "      <td>7515</td>\n",
       "      <td>F</td>\n",
       "      <td>Christopher</td>\n",
       "      <td>1099</td>\n",
       "      <td>Christopher F</td>\n",
       "      <td>10.0</td>\n",
       "      <td>415</td>\n",
       "      <td>21</td>\n",
       "      <td>Christopher F Baum Department of Economics, Bo...</td>\n",
       "      <td>3062</td>\n",
       "      <td>0</td>\n",
       "      <td>0</td>\n",
       "      <td>0</td>\n",
       "      <td>(USA)</td>\n",
       "      <td>0</td>\n",
       "    </tr>\n",
       "    <tr>\n",
       "      <th>1</th>\n",
       "      <td>6537</td>\n",
       "      <td>Acemoglu</td>\n",
       "      <td>Daron</td>\n",
       "      <td>5349</td>\n",
       "      <td>Daron Acemoglu</td>\n",
       "      <td>23.0</td>\n",
       "      <td>645</td>\n",
       "      <td>72</td>\n",
       "      <td>Daron Acemoglu Economics Department, Massachus...</td>\n",
       "      <td>24703</td>\n",
       "      <td>1</td>\n",
       "      <td>1</td>\n",
       "      <td>0</td>\n",
       "      <td>(USA)</td>\n",
       "      <td>1</td>\n",
       "    </tr>\n",
       "    <tr>\n",
       "      <th>2</th>\n",
       "      <td>6290</td>\n",
       "      <td>Stiglitz</td>\n",
       "      <td>Joseph</td>\n",
       "      <td>5753</td>\n",
       "      <td>Joseph E. Stiglitz</td>\n",
       "      <td>6.0</td>\n",
       "      <td>643</td>\n",
       "      <td>72</td>\n",
       "      <td>Joseph E. Stiglitz Finance and Economics Depar...</td>\n",
       "      <td>25947</td>\n",
       "      <td>0</td>\n",
       "      <td>1</td>\n",
       "      <td>1</td>\n",
       "      <td>(USA)</td>\n",
       "      <td>1</td>\n",
       "    </tr>\n",
       "  </tbody>\n",
       "</table>\n",
       "</div>"
      ],
      "text/plain": [
       "   nb_downl   Surname        First  nb_pages        Author_clean  Students  \\\n",
       "0      7515         F  Christopher      1099       Christopher F      10.0   \n",
       "1      6537  Acemoglu        Daron      5349      Daron Acemoglu      23.0   \n",
       "2      6290  Stiglitz       Joseph      5753  Joseph E. Stiglitz       6.0   \n",
       "\n",
       "   nb_works  h_index                                             Author  \\\n",
       "0       415       21  Christopher F Baum Department of Economics, Bo...   \n",
       "1       645       72  Daron Acemoglu Economics Department, Massachus...   \n",
       "2       643       72  Joseph E. Stiglitz Finance and Economics Depar...   \n",
       "\n",
       "   nb_cit  vn_award  clark  nobel Country  top10_shangai_yn  \n",
       "0    3062         0      0      0   (USA)                 0  \n",
       "1   24703         1      1      0   (USA)                 1  \n",
       "2   25947         0      1      1   (USA)                 1  "
      ]
     },
     "execution_count": 6,
     "metadata": {},
     "output_type": "execute_result"
    }
   ],
   "source": [
    "df_data.head(3)"
   ]
  },
  {
   "cell_type": "code",
   "execution_count": 8,
   "metadata": {},
   "outputs": [
    {
     "data": {
      "text/plain": [
       "(400, 15)"
      ]
     },
     "execution_count": 8,
     "metadata": {},
     "output_type": "execute_result"
    }
   ],
   "source": [
    "df_data.shape"
   ]
  },
  {
   "cell_type": "markdown",
   "metadata": {},
   "source": [
    "## I. Feature engeenering"
   ]
  },
  {
   "cell_type": "code",
   "execution_count": 12,
   "metadata": {},
   "outputs": [],
   "source": [
    "# transform Country data into usa_yn\n",
    "df_data['usa_yn'] = df_data['Country'].apply(lambda x: 1 if x == '(USA)' else 0)"
   ]
  },
  {
   "cell_type": "code",
   "execution_count": 16,
   "metadata": {
    "scrolled": true
   },
   "outputs": [
    {
     "data": {
      "text/html": [
       "<div>\n",
       "<style scoped>\n",
       "    .dataframe tbody tr th:only-of-type {\n",
       "        vertical-align: middle;\n",
       "    }\n",
       "\n",
       "    .dataframe tbody tr th {\n",
       "        vertical-align: top;\n",
       "    }\n",
       "\n",
       "    .dataframe thead th {\n",
       "        text-align: right;\n",
       "    }\n",
       "</style>\n",
       "<table border=\"1\" class=\"dataframe\">\n",
       "  <thead>\n",
       "    <tr style=\"text-align: right;\">\n",
       "      <th></th>\n",
       "      <th>nb_downl</th>\n",
       "      <th>Surname</th>\n",
       "      <th>First</th>\n",
       "      <th>nb_pages</th>\n",
       "      <th>Author_clean</th>\n",
       "      <th>Students</th>\n",
       "      <th>nb_works</th>\n",
       "      <th>h_index</th>\n",
       "      <th>Author</th>\n",
       "      <th>nb_cit</th>\n",
       "      <th>vn_award</th>\n",
       "      <th>clark</th>\n",
       "      <th>nobel</th>\n",
       "      <th>Country</th>\n",
       "      <th>top10_shangai_yn</th>\n",
       "      <th>usa_yn</th>\n",
       "    </tr>\n",
       "  </thead>\n",
       "  <tbody>\n",
       "    <tr>\n",
       "      <th>397</th>\n",
       "      <td>367</td>\n",
       "      <td>William</td>\n",
       "      <td>George</td>\n",
       "      <td>1633</td>\n",
       "      <td>George William</td>\n",
       "      <td>6.0</td>\n",
       "      <td>273</td>\n",
       "      <td>26</td>\n",
       "      <td>George William Evans Department of Economics, ...</td>\n",
       "      <td>2234</td>\n",
       "      <td>0</td>\n",
       "      <td>0</td>\n",
       "      <td>0</td>\n",
       "      <td>(USA)</td>\n",
       "      <td>0</td>\n",
       "      <td>1</td>\n",
       "    </tr>\n",
       "    <tr>\n",
       "      <th>398</th>\n",
       "      <td>363</td>\n",
       "      <td>Girma</td>\n",
       "      <td>Sourafel</td>\n",
       "      <td>1197</td>\n",
       "      <td>Sourafel Girma</td>\n",
       "      <td>0.5</td>\n",
       "      <td>150</td>\n",
       "      <td>25</td>\n",
       "      <td>Sourafel Girma School of Economics, University...</td>\n",
       "      <td>2091</td>\n",
       "      <td>0</td>\n",
       "      <td>0</td>\n",
       "      <td>0</td>\n",
       "      <td>United Kingdom</td>\n",
       "      <td>0</td>\n",
       "      <td>0</td>\n",
       "    </tr>\n",
       "    <tr>\n",
       "      <th>399</th>\n",
       "      <td>360</td>\n",
       "      <td>Palfrey</td>\n",
       "      <td>Thomas</td>\n",
       "      <td>1995</td>\n",
       "      <td>Thomas R. Palfrey</td>\n",
       "      <td>1.0</td>\n",
       "      <td>247</td>\n",
       "      <td>31</td>\n",
       "      <td>Thomas R. Palfrey Division of Social Sciences,...</td>\n",
       "      <td>3725</td>\n",
       "      <td>0</td>\n",
       "      <td>0</td>\n",
       "      <td>0</td>\n",
       "      <td>(USA)</td>\n",
       "      <td>0</td>\n",
       "      <td>1</td>\n",
       "    </tr>\n",
       "  </tbody>\n",
       "</table>\n",
       "</div>"
      ],
      "text/plain": [
       "     nb_downl  Surname     First  nb_pages       Author_clean  Students  \\\n",
       "397       367  William    George      1633     George William       6.0   \n",
       "398       363    Girma  Sourafel      1197     Sourafel Girma       0.5   \n",
       "399       360  Palfrey    Thomas      1995  Thomas R. Palfrey       1.0   \n",
       "\n",
       "     nb_works  h_index                                             Author  \\\n",
       "397       273       26  George William Evans Department of Economics, ...   \n",
       "398       150       25  Sourafel Girma School of Economics, University...   \n",
       "399       247       31  Thomas R. Palfrey Division of Social Sciences,...   \n",
       "\n",
       "     nb_cit  vn_award  clark  nobel          Country  top10_shangai_yn  usa_yn  \n",
       "397    2234         0      0      0            (USA)                 0       1  \n",
       "398    2091         0      0      0   United Kingdom                 0       0  \n",
       "399    3725         0      0      0            (USA)                 0       1  "
      ]
     },
     "execution_count": 16,
     "metadata": {},
     "output_type": "execute_result"
    }
   ],
   "source": [
    "df_data.tail(3)"
   ]
  },
  {
   "cell_type": "code",
   "execution_count": 17,
   "metadata": {},
   "outputs": [
    {
     "data": {
      "text/plain": [
       "1    202\n",
       "0    198\n",
       "Name: usa_yn, dtype: int64"
      ]
     },
     "execution_count": 17,
     "metadata": {},
     "output_type": "execute_result"
    }
   ],
   "source": [
    "df_data['usa_yn'].value_counts()"
   ]
  },
  {
   "cell_type": "code",
   "execution_count": 20,
   "metadata": {},
   "outputs": [
    {
     "name": "stdout",
     "output_type": "stream",
     "text": [
      "Hillel Rapoport Paris School of Economics, Paris, France\n",
      "Niklas Potrafke ifo Institut - Leibniz-Institut für Wirtschaftsforschung an der Universität München e.V., München, Germany\n",
      "Peter Nijkamp Afdeling Ruimtelijke Economie, School of Business and Economics, Vrije Universiteit Amsterdam, Amsterdam, Netherlands\n",
      "Robert M. Solow Economics Department, Massachusetts Institute of Technology (MIT), Cambridge, Massachusetts (USA)\n",
      "Richard Rogerson Department of Economics, Princeton University, Princeton, New Jersey (USA)\n",
      "John Y. Campbell Department of Economics, Harvard University, Cambridge, Massachusetts (USA)\n",
      "Milton Friedman †\n",
      "Heng-Fu Zou China Economics and Management Academy, Central University of Finance and Economics (CUFE), Beijing, China\n",
      "J. Vernon Henderson Department of Geography and Environment, London School of Economics (LSE), London, United Kingdom\n",
      "Guido Tabellini Innocenzo Gasparini Institute for Economic Research (IGIER), Università Commerciale Luigi Bocconi, Milano, Italy\n"
     ]
    }
   ],
   "source": [
    "for i in range(80,90):\n",
    "    print(df_data['Author'].iloc[i])"
   ]
  },
  {
   "cell_type": "code",
   "execution_count": 51,
   "metadata": {},
   "outputs": [
    {
     "name": "stderr",
     "output_type": "stream",
     "text": [
      "C:\\Users\\imran\\Anaconda3\\lib\\site-packages\\ipykernel_launcher.py:7: SettingWithCopyWarning: \n",
      "A value is trying to be set on a copy of a slice from a DataFrame\n",
      "\n",
      "See the caveats in the documentation: https://pandas.pydata.org/pandas-docs/stable/user_guide/indexing.html#returning-a-view-versus-a-copy\n",
      "  import sys\n"
     ]
    }
   ],
   "source": [
    "# feature building :  description length \n",
    "\n",
    "df_test = df_data.copy()\n",
    "\n",
    "df_data['descri_len'] = df_data['Author'].apply(lambda x: len(x.split(' ')))\n",
    "\n",
    "df_data['descri_len'][df_data['nobel'] == 1] = df_data['Author'].apply(lambda x: np.nan if '†' in x  else len(x.split(' ')))\n",
    "\n",
    "df_data['descri_len'].fillna(round(np.mean(df_data['descri_len'][df_data['nobel'] == 1]),0), inplace=True)\n"
   ]
  },
  {
   "cell_type": "code",
   "execution_count": 53,
   "metadata": {},
   "outputs": [
    {
     "data": {
      "text/html": [
       "<div>\n",
       "<style scoped>\n",
       "    .dataframe tbody tr th:only-of-type {\n",
       "        vertical-align: middle;\n",
       "    }\n",
       "\n",
       "    .dataframe tbody tr th {\n",
       "        vertical-align: top;\n",
       "    }\n",
       "\n",
       "    .dataframe thead th {\n",
       "        text-align: right;\n",
       "    }\n",
       "</style>\n",
       "<table border=\"1\" class=\"dataframe\">\n",
       "  <thead>\n",
       "    <tr style=\"text-align: right;\">\n",
       "      <th></th>\n",
       "      <th>nb_downl</th>\n",
       "      <th>Surname</th>\n",
       "      <th>First</th>\n",
       "      <th>nb_pages</th>\n",
       "      <th>Author_clean</th>\n",
       "      <th>Students</th>\n",
       "      <th>nb_works</th>\n",
       "      <th>h_index</th>\n",
       "      <th>Author</th>\n",
       "      <th>nb_cit</th>\n",
       "      <th>vn_award</th>\n",
       "      <th>clark</th>\n",
       "      <th>nobel</th>\n",
       "      <th>Country</th>\n",
       "      <th>top10_shangai_yn</th>\n",
       "      <th>usa_yn</th>\n",
       "      <th>descri_len</th>\n",
       "    </tr>\n",
       "  </thead>\n",
       "  <tbody>\n",
       "    <tr>\n",
       "      <th>395</th>\n",
       "      <td>371</td>\n",
       "      <td>Chatterjee</td>\n",
       "      <td>Satyajit</td>\n",
       "      <td>779</td>\n",
       "      <td>Satyajit Chatterjee</td>\n",
       "      <td>0.5</td>\n",
       "      <td>138</td>\n",
       "      <td>16</td>\n",
       "      <td>Satyajit Chatterjee Research Department, Feder...</td>\n",
       "      <td>1269</td>\n",
       "      <td>0</td>\n",
       "      <td>0</td>\n",
       "      <td>0</td>\n",
       "      <td>(USA)</td>\n",
       "      <td>0</td>\n",
       "      <td>1</td>\n",
       "      <td>12.0</td>\n",
       "    </tr>\n",
       "    <tr>\n",
       "      <th>396</th>\n",
       "      <td>369</td>\n",
       "      <td>Peracchi</td>\n",
       "      <td>Franco</td>\n",
       "      <td>953</td>\n",
       "      <td>Franco Peracchi</td>\n",
       "      <td>12.0</td>\n",
       "      <td>148</td>\n",
       "      <td>15</td>\n",
       "      <td>Franco Peracchi Economics Department, Georgeto...</td>\n",
       "      <td>1024</td>\n",
       "      <td>0</td>\n",
       "      <td>0</td>\n",
       "      <td>0</td>\n",
       "      <td>(USA)</td>\n",
       "      <td>0</td>\n",
       "      <td>1</td>\n",
       "      <td>11.0</td>\n",
       "    </tr>\n",
       "    <tr>\n",
       "      <th>397</th>\n",
       "      <td>367</td>\n",
       "      <td>William</td>\n",
       "      <td>George</td>\n",
       "      <td>1633</td>\n",
       "      <td>George William</td>\n",
       "      <td>6.0</td>\n",
       "      <td>273</td>\n",
       "      <td>26</td>\n",
       "      <td>George William Evans Department of Economics, ...</td>\n",
       "      <td>2234</td>\n",
       "      <td>0</td>\n",
       "      <td>0</td>\n",
       "      <td>0</td>\n",
       "      <td>(USA)</td>\n",
       "      <td>0</td>\n",
       "      <td>1</td>\n",
       "      <td>12.0</td>\n",
       "    </tr>\n",
       "    <tr>\n",
       "      <th>398</th>\n",
       "      <td>363</td>\n",
       "      <td>Girma</td>\n",
       "      <td>Sourafel</td>\n",
       "      <td>1197</td>\n",
       "      <td>Sourafel Girma</td>\n",
       "      <td>0.5</td>\n",
       "      <td>150</td>\n",
       "      <td>25</td>\n",
       "      <td>Sourafel Girma School of Economics, University...</td>\n",
       "      <td>2091</td>\n",
       "      <td>0</td>\n",
       "      <td>0</td>\n",
       "      <td>0</td>\n",
       "      <td>United Kingdom</td>\n",
       "      <td>0</td>\n",
       "      <td>0</td>\n",
       "      <td>11.0</td>\n",
       "    </tr>\n",
       "    <tr>\n",
       "      <th>399</th>\n",
       "      <td>360</td>\n",
       "      <td>Palfrey</td>\n",
       "      <td>Thomas</td>\n",
       "      <td>1995</td>\n",
       "      <td>Thomas R. Palfrey</td>\n",
       "      <td>1.0</td>\n",
       "      <td>247</td>\n",
       "      <td>31</td>\n",
       "      <td>Thomas R. Palfrey Division of Social Sciences,...</td>\n",
       "      <td>3725</td>\n",
       "      <td>0</td>\n",
       "      <td>0</td>\n",
       "      <td>0</td>\n",
       "      <td>(USA)</td>\n",
       "      <td>0</td>\n",
       "      <td>1</td>\n",
       "      <td>14.0</td>\n",
       "    </tr>\n",
       "  </tbody>\n",
       "</table>\n",
       "</div>"
      ],
      "text/plain": [
       "     nb_downl     Surname     First  nb_pages         Author_clean  Students  \\\n",
       "395       371  Chatterjee  Satyajit       779  Satyajit Chatterjee       0.5   \n",
       "396       369    Peracchi    Franco       953      Franco Peracchi      12.0   \n",
       "397       367     William    George      1633       George William       6.0   \n",
       "398       363       Girma  Sourafel      1197       Sourafel Girma       0.5   \n",
       "399       360     Palfrey    Thomas      1995    Thomas R. Palfrey       1.0   \n",
       "\n",
       "     nb_works  h_index                                             Author  \\\n",
       "395       138       16  Satyajit Chatterjee Research Department, Feder...   \n",
       "396       148       15  Franco Peracchi Economics Department, Georgeto...   \n",
       "397       273       26  George William Evans Department of Economics, ...   \n",
       "398       150       25  Sourafel Girma School of Economics, University...   \n",
       "399       247       31  Thomas R. Palfrey Division of Social Sciences,...   \n",
       "\n",
       "     nb_cit  vn_award  clark  nobel          Country  top10_shangai_yn  \\\n",
       "395    1269         0      0      0            (USA)                 0   \n",
       "396    1024         0      0      0            (USA)                 0   \n",
       "397    2234         0      0      0            (USA)                 0   \n",
       "398    2091         0      0      0   United Kingdom                 0   \n",
       "399    3725         0      0      0            (USA)                 0   \n",
       "\n",
       "     usa_yn  descri_len  \n",
       "395       1        12.0  \n",
       "396       1        11.0  \n",
       "397       1        12.0  \n",
       "398       0        11.0  \n",
       "399       1        14.0  "
      ]
     },
     "execution_count": 53,
     "metadata": {},
     "output_type": "execute_result"
    }
   ],
   "source": [
    "df_data.tail()\n"
   ]
  },
  {
   "cell_type": "code",
   "execution_count": 56,
   "metadata": {
    "scrolled": true
   },
   "outputs": [
    {
     "data": {
      "text/html": [
       "<div>\n",
       "<style scoped>\n",
       "    .dataframe tbody tr th:only-of-type {\n",
       "        vertical-align: middle;\n",
       "    }\n",
       "\n",
       "    .dataframe tbody tr th {\n",
       "        vertical-align: top;\n",
       "    }\n",
       "\n",
       "    .dataframe thead th {\n",
       "        text-align: right;\n",
       "    }\n",
       "</style>\n",
       "<table border=\"1\" class=\"dataframe\">\n",
       "  <thead>\n",
       "    <tr style=\"text-align: right;\">\n",
       "      <th></th>\n",
       "      <th>nb_downl</th>\n",
       "      <th>Surname</th>\n",
       "      <th>First</th>\n",
       "      <th>nb_pages</th>\n",
       "      <th>Author_clean</th>\n",
       "      <th>Students</th>\n",
       "      <th>nb_works</th>\n",
       "      <th>h_index</th>\n",
       "      <th>Author</th>\n",
       "      <th>nb_cit</th>\n",
       "      <th>vn_award</th>\n",
       "      <th>clark</th>\n",
       "      <th>nobel</th>\n",
       "      <th>Country</th>\n",
       "      <th>top10_shangai_yn</th>\n",
       "      <th>usa_yn</th>\n",
       "      <th>descri_len</th>\n",
       "      <th>len_work</th>\n",
       "    </tr>\n",
       "  </thead>\n",
       "  <tbody>\n",
       "    <tr>\n",
       "      <th>0</th>\n",
       "      <td>7515</td>\n",
       "      <td>F</td>\n",
       "      <td>Christopher</td>\n",
       "      <td>1099</td>\n",
       "      <td>Christopher F</td>\n",
       "      <td>10.0</td>\n",
       "      <td>415</td>\n",
       "      <td>21</td>\n",
       "      <td>Christopher F Baum Department of Economics, Bo...</td>\n",
       "      <td>3062</td>\n",
       "      <td>0</td>\n",
       "      <td>0</td>\n",
       "      <td>0</td>\n",
       "      <td>(USA)</td>\n",
       "      <td>0</td>\n",
       "      <td>1</td>\n",
       "      <td>12.0</td>\n",
       "      <td>3.0</td>\n",
       "    </tr>\n",
       "    <tr>\n",
       "      <th>1</th>\n",
       "      <td>6537</td>\n",
       "      <td>Acemoglu</td>\n",
       "      <td>Daron</td>\n",
       "      <td>5349</td>\n",
       "      <td>Daron Acemoglu</td>\n",
       "      <td>23.0</td>\n",
       "      <td>645</td>\n",
       "      <td>72</td>\n",
       "      <td>Daron Acemoglu Economics Department, Massachus...</td>\n",
       "      <td>24703</td>\n",
       "      <td>1</td>\n",
       "      <td>1</td>\n",
       "      <td>0</td>\n",
       "      <td>(USA)</td>\n",
       "      <td>1</td>\n",
       "      <td>1</td>\n",
       "      <td>12.0</td>\n",
       "      <td>8.0</td>\n",
       "    </tr>\n",
       "    <tr>\n",
       "      <th>2</th>\n",
       "      <td>6290</td>\n",
       "      <td>Stiglitz</td>\n",
       "      <td>Joseph</td>\n",
       "      <td>5753</td>\n",
       "      <td>Joseph E. Stiglitz</td>\n",
       "      <td>6.0</td>\n",
       "      <td>643</td>\n",
       "      <td>72</td>\n",
       "      <td>Joseph E. Stiglitz Finance and Economics Depar...</td>\n",
       "      <td>25947</td>\n",
       "      <td>0</td>\n",
       "      <td>1</td>\n",
       "      <td>1</td>\n",
       "      <td>(USA)</td>\n",
       "      <td>1</td>\n",
       "      <td>1</td>\n",
       "      <td>19.0</td>\n",
       "      <td>9.0</td>\n",
       "    </tr>\n",
       "    <tr>\n",
       "      <th>3</th>\n",
       "      <td>5632</td>\n",
       "      <td>List</td>\n",
       "      <td>John</td>\n",
       "      <td>3642</td>\n",
       "      <td>John List</td>\n",
       "      <td>5.0</td>\n",
       "      <td>681</td>\n",
       "      <td>56</td>\n",
       "      <td>John List Department of Economics, University ...</td>\n",
       "      <td>11165</td>\n",
       "      <td>0</td>\n",
       "      <td>0</td>\n",
       "      <td>0</td>\n",
       "      <td>(USA)</td>\n",
       "      <td>1</td>\n",
       "      <td>1</td>\n",
       "      <td>11.0</td>\n",
       "      <td>5.0</td>\n",
       "    </tr>\n",
       "    <tr>\n",
       "      <th>4</th>\n",
       "      <td>5426</td>\n",
       "      <td>Barro</td>\n",
       "      <td>Robert</td>\n",
       "      <td>2705</td>\n",
       "      <td>Robert J. Barro</td>\n",
       "      <td>7.0</td>\n",
       "      <td>329</td>\n",
       "      <td>65</td>\n",
       "      <td>Robert J. Barro Department of Economics, Harva...</td>\n",
       "      <td>31421</td>\n",
       "      <td>0</td>\n",
       "      <td>0</td>\n",
       "      <td>0</td>\n",
       "      <td>(USA)</td>\n",
       "      <td>1</td>\n",
       "      <td>1</td>\n",
       "      <td>11.0</td>\n",
       "      <td>8.0</td>\n",
       "    </tr>\n",
       "  </tbody>\n",
       "</table>\n",
       "</div>"
      ],
      "text/plain": [
       "   nb_downl   Surname        First  nb_pages        Author_clean  Students  \\\n",
       "0      7515         F  Christopher      1099       Christopher F      10.0   \n",
       "1      6537  Acemoglu        Daron      5349      Daron Acemoglu      23.0   \n",
       "2      6290  Stiglitz       Joseph      5753  Joseph E. Stiglitz       6.0   \n",
       "3      5632      List         John      3642           John List       5.0   \n",
       "4      5426     Barro       Robert      2705     Robert J. Barro       7.0   \n",
       "\n",
       "   nb_works  h_index                                             Author  \\\n",
       "0       415       21  Christopher F Baum Department of Economics, Bo...   \n",
       "1       645       72  Daron Acemoglu Economics Department, Massachus...   \n",
       "2       643       72  Joseph E. Stiglitz Finance and Economics Depar...   \n",
       "3       681       56  John List Department of Economics, University ...   \n",
       "4       329       65  Robert J. Barro Department of Economics, Harva...   \n",
       "\n",
       "   nb_cit  vn_award  clark  nobel Country  top10_shangai_yn  usa_yn  \\\n",
       "0    3062         0      0      0   (USA)                 0       1   \n",
       "1   24703         1      1      0   (USA)                 1       1   \n",
       "2   25947         0      1      1   (USA)                 1       1   \n",
       "3   11165         0      0      0   (USA)                 1       1   \n",
       "4   31421         0      0      0   (USA)                 1       1   \n",
       "\n",
       "   descri_len  len_work  \n",
       "0        12.0       3.0  \n",
       "1        12.0       8.0  \n",
       "2        19.0       9.0  \n",
       "3        11.0       5.0  \n",
       "4        11.0       8.0  "
      ]
     },
     "execution_count": 56,
     "metadata": {},
     "output_type": "execute_result"
    }
   ],
   "source": [
    "# new feature : the length of a work nb_pages / nb_work\n",
    "df_data['len_work'] = round(df_data['nb_pages'] / df_data['nb_works'],0)\n",
    "df_data.head()\n"
   ]
  },
  {
   "cell_type": "code",
   "execution_count": 75,
   "metadata": {},
   "outputs": [],
   "source": [
    "df_model = df_data.set_index('Author_clean')\n",
    "df_model = df_model.drop(['Surname', 'First', 'Author', 'Country' ], axis=1)"
   ]
  },
  {
   "cell_type": "code",
   "execution_count": 87,
   "metadata": {},
   "outputs": [
    {
     "data": {
      "text/html": [
       "<div>\n",
       "<style scoped>\n",
       "    .dataframe tbody tr th:only-of-type {\n",
       "        vertical-align: middle;\n",
       "    }\n",
       "\n",
       "    .dataframe tbody tr th {\n",
       "        vertical-align: top;\n",
       "    }\n",
       "\n",
       "    .dataframe thead th {\n",
       "        text-align: right;\n",
       "    }\n",
       "</style>\n",
       "<table border=\"1\" class=\"dataframe\">\n",
       "  <thead>\n",
       "    <tr style=\"text-align: right;\">\n",
       "      <th></th>\n",
       "      <th>nb_downl</th>\n",
       "      <th>nb_pages</th>\n",
       "      <th>Students</th>\n",
       "      <th>nb_works</th>\n",
       "      <th>h_index</th>\n",
       "      <th>nb_cit</th>\n",
       "      <th>vn_award</th>\n",
       "      <th>clark</th>\n",
       "      <th>nobel</th>\n",
       "      <th>top10_shangai_yn</th>\n",
       "      <th>usa_yn</th>\n",
       "      <th>descri_len</th>\n",
       "      <th>len_work</th>\n",
       "    </tr>\n",
       "    <tr>\n",
       "      <th>Author_clean</th>\n",
       "      <th></th>\n",
       "      <th></th>\n",
       "      <th></th>\n",
       "      <th></th>\n",
       "      <th></th>\n",
       "      <th></th>\n",
       "      <th></th>\n",
       "      <th></th>\n",
       "      <th></th>\n",
       "      <th></th>\n",
       "      <th></th>\n",
       "      <th></th>\n",
       "      <th></th>\n",
       "    </tr>\n",
       "  </thead>\n",
       "  <tbody>\n",
       "    <tr>\n",
       "      <th>Christopher F</th>\n",
       "      <td>7515</td>\n",
       "      <td>1099</td>\n",
       "      <td>10.0</td>\n",
       "      <td>415</td>\n",
       "      <td>21</td>\n",
       "      <td>3062</td>\n",
       "      <td>0</td>\n",
       "      <td>0</td>\n",
       "      <td>0</td>\n",
       "      <td>0</td>\n",
       "      <td>1</td>\n",
       "      <td>12.0</td>\n",
       "      <td>3.0</td>\n",
       "    </tr>\n",
       "    <tr>\n",
       "      <th>Daron Acemoglu</th>\n",
       "      <td>6537</td>\n",
       "      <td>5349</td>\n",
       "      <td>23.0</td>\n",
       "      <td>645</td>\n",
       "      <td>72</td>\n",
       "      <td>24703</td>\n",
       "      <td>1</td>\n",
       "      <td>1</td>\n",
       "      <td>0</td>\n",
       "      <td>1</td>\n",
       "      <td>1</td>\n",
       "      <td>12.0</td>\n",
       "      <td>8.0</td>\n",
       "    </tr>\n",
       "    <tr>\n",
       "      <th>Joseph E. Stiglitz</th>\n",
       "      <td>6290</td>\n",
       "      <td>5753</td>\n",
       "      <td>6.0</td>\n",
       "      <td>643</td>\n",
       "      <td>72</td>\n",
       "      <td>25947</td>\n",
       "      <td>0</td>\n",
       "      <td>1</td>\n",
       "      <td>1</td>\n",
       "      <td>1</td>\n",
       "      <td>1</td>\n",
       "      <td>19.0</td>\n",
       "      <td>9.0</td>\n",
       "    </tr>\n",
       "    <tr>\n",
       "      <th>John List</th>\n",
       "      <td>5632</td>\n",
       "      <td>3642</td>\n",
       "      <td>5.0</td>\n",
       "      <td>681</td>\n",
       "      <td>56</td>\n",
       "      <td>11165</td>\n",
       "      <td>0</td>\n",
       "      <td>0</td>\n",
       "      <td>0</td>\n",
       "      <td>1</td>\n",
       "      <td>1</td>\n",
       "      <td>11.0</td>\n",
       "      <td>5.0</td>\n",
       "    </tr>\n",
       "    <tr>\n",
       "      <th>Robert J. Barro</th>\n",
       "      <td>5426</td>\n",
       "      <td>2705</td>\n",
       "      <td>7.0</td>\n",
       "      <td>329</td>\n",
       "      <td>65</td>\n",
       "      <td>31421</td>\n",
       "      <td>0</td>\n",
       "      <td>0</td>\n",
       "      <td>0</td>\n",
       "      <td>1</td>\n",
       "      <td>1</td>\n",
       "      <td>11.0</td>\n",
       "      <td>8.0</td>\n",
       "    </tr>\n",
       "  </tbody>\n",
       "</table>\n",
       "</div>"
      ],
      "text/plain": [
       "                    nb_downl  nb_pages  Students  nb_works  h_index  nb_cit  \\\n",
       "Author_clean                                                                  \n",
       "Christopher F           7515      1099      10.0       415       21    3062   \n",
       "Daron Acemoglu          6537      5349      23.0       645       72   24703   \n",
       "Joseph E. Stiglitz      6290      5753       6.0       643       72   25947   \n",
       "John List               5632      3642       5.0       681       56   11165   \n",
       "Robert J. Barro         5426      2705       7.0       329       65   31421   \n",
       "\n",
       "                    vn_award  clark  nobel  top10_shangai_yn  usa_yn  \\\n",
       "Author_clean                                                           \n",
       "Christopher F              0      0      0                 0       1   \n",
       "Daron Acemoglu             1      1      0                 1       1   \n",
       "Joseph E. Stiglitz         0      1      1                 1       1   \n",
       "John List                  0      0      0                 1       1   \n",
       "Robert J. Barro            0      0      0                 1       1   \n",
       "\n",
       "                    descri_len  len_work  \n",
       "Author_clean                              \n",
       "Christopher F             12.0       3.0  \n",
       "Daron Acemoglu            12.0       8.0  \n",
       "Joseph E. Stiglitz        19.0       9.0  \n",
       "John List                 11.0       5.0  \n",
       "Robert J. Barro           11.0       8.0  "
      ]
     },
     "execution_count": 87,
     "metadata": {},
     "output_type": "execute_result"
    }
   ],
   "source": [
    "df_model.head()"
   ]
  },
  {
   "cell_type": "markdown",
   "metadata": {},
   "source": [
    "## II. EDA"
   ]
  },
  {
   "cell_type": "code",
   "execution_count": 79,
   "metadata": {},
   "outputs": [
    {
     "name": "stdout",
     "output_type": "stream",
     "text": [
      "<class 'pandas.core.frame.DataFrame'>\n",
      "Index: 400 entries, Christopher F to Thomas R. Palfrey\n",
      "Data columns (total 13 columns):\n",
      " #   Column            Non-Null Count  Dtype  \n",
      "---  ------            --------------  -----  \n",
      " 0   nb_downl          400 non-null    int64  \n",
      " 1   nb_pages          400 non-null    int64  \n",
      " 2   Students          400 non-null    float64\n",
      " 3   nb_works          400 non-null    int64  \n",
      " 4   h_index           400 non-null    int64  \n",
      " 5   nb_cit            400 non-null    int64  \n",
      " 6   vn_award          400 non-null    int64  \n",
      " 7   clark             400 non-null    int64  \n",
      " 8   nobel             400 non-null    int64  \n",
      " 9   top10_shangai_yn  400 non-null    int64  \n",
      " 10  usa_yn            400 non-null    int64  \n",
      " 11  descri_len        400 non-null    float64\n",
      " 12  len_work          400 non-null    float64\n",
      "dtypes: float64(3), int64(10)\n",
      "memory usage: 43.8+ KB\n"
     ]
    }
   ],
   "source": [
    "df_model.info()"
   ]
  },
  {
   "cell_type": "code",
   "execution_count": 85,
   "metadata": {},
   "outputs": [
    {
     "data": {
      "text/plain": [
       "Index(['nb_downl', 'nb_pages', 'Students', 'nb_works', 'h_index', 'nb_cit',\n",
       "       'vn_award', 'clark', 'nobel', 'top10_shangai_yn', 'usa_yn',\n",
       "       'descri_len', 'len_work'],\n",
       "      dtype='object')"
      ]
     },
     "execution_count": 85,
     "metadata": {},
     "output_type": "execute_result"
    }
   ],
   "source": [
    "df_model.describe().columns"
   ]
  },
  {
   "cell_type": "code",
   "execution_count": 90,
   "metadata": {},
   "outputs": [],
   "source": [
    "df_num = df_model[['nb_downl', 'nb_pages', 'Students', 'nb_works', 'h_index', 'nb_cit', 'descri_len', 'len_work']]\n",
    "df_cat = df_model[['nobel', 'vn_award', 'clark', 'top10_shangai_yn', 'usa_yn']]"
   ]
  },
  {
   "cell_type": "code",
   "execution_count": 228,
   "metadata": {},
   "outputs": [],
   "source": [
    "plt.style.use('ggplot')\n",
    "sns.set(style=\"darkgrid\")"
   ]
  },
  {
   "cell_type": "code",
   "execution_count": 229,
   "metadata": {},
   "outputs": [
    {
     "data": {
      "image/png": "[encoded data removed]",
      "text/plain": [
       "<Figure size 432x288 with 1 Axes>"
      ]
     },
     "metadata": {},
     "output_type": "display_data"
    },
    {
     "data": {
      "image/png": "[encoded data removed]",
      "text/plain": [
       "<Figure size 432x288 with 1 Axes>"
      ]
     },
     "metadata": {},
     "output_type": "display_data"
    },
    {
     "data": {
      "image/png": "[encoded data removed]",
      "text/plain": [
       "<Figure size 432x288 with 1 Axes>"
      ]
     },
     "metadata": {},
     "output_type": "display_data"
    },
    {
     "data": {
      "image/png": "[encoded data removed]",
      "text/plain": [
       "<Figure size 432x288 with 1 Axes>"
      ]
     },
     "metadata": {},
     "output_type": "display_data"
    },
    {
     "data": {
      "image/png": "[encoded data removed]",
      "text/plain": [
       "<Figure size 432x288 with 1 Axes>"
      ]
     },
     "metadata": {},
     "output_type": "display_data"
    },
    {
     "data": {
      "image/png": "[encoded data removed]",
      "text/plain": [
       "<Figure size 432x288 with 1 Axes>"
      ]
     },
     "metadata": {},
     "output_type": "display_data"
    },
    {
     "data": {
      "image/png": "[encoded data removed]",
      "text/plain": [
       "<Figure size 432x288 with 1 Axes>"
      ]
     },
     "metadata": {},
     "output_type": "display_data"
    },
    {
     "data": {
      "image/png": "[encoded data removed]",
      "text/plain": [
       "<Figure size 432x288 with 1 Axes>"
      ]
     },
     "metadata": {},
     "output_type": "display_data"
    }
   ],
   "source": [
    "# analysis of numerical features\n",
    "for i in df_num.columns:\n",
    "    plt.hist(df_num[i], bins= 15)\n",
    "    plt.title(i)\n",
    "    plt.show()"
   ]
  },
  {
   "cell_type": "code",
   "execution_count": 230,
   "metadata": {},
   "outputs": [
    {
     "data": {
      "text/plain": [
       "<matplotlib.axes._subplots.AxesSubplot at 0x247b198ee48>"
      ]
     },
     "execution_count": 230,
     "metadata": {},
     "output_type": "execute_result"
    },
    {
     "data": {
      "image/png": "[encoded data removed]",
      "text/plain": [
       "<Figure size 432x288 with 1 Axes>"
      ]
     },
     "metadata": {},
     "output_type": "display_data"
    }
   ],
   "source": [
    "# normalize skewed distributions(nb_downl, nb_pages, students, nb_works, nb_cit)\n",
    "df_model.boxplot(column=[ 'Students',  'h_index','descri_len', 'len_work'])"
   ]
  },
  {
   "cell_type": "code",
   "execution_count": 231,
   "metadata": {},
   "outputs": [
    {
     "data": {
      "text/plain": [
       "<matplotlib.axes._subplots.AxesSubplot at 0x247b1a09ec8>"
      ]
     },
     "execution_count": 231,
     "metadata": {},
     "output_type": "execute_result"
    },
    {
     "data": {
      "image/png": "[encoded data removed]",
      "text/plain": [
       "<Figure size 432x288 with 1 Axes>"
      ]
     },
     "metadata": {},
     "output_type": "display_data"
    }
   ],
   "source": [
    "df_model.boxplot(column=['nb_works','nb_pages', 'nb_downl'])"
   ]
  },
  {
   "cell_type": "code",
   "execution_count": 232,
   "metadata": {},
   "outputs": [
    {
     "data": {
      "text/plain": [
       "<matplotlib.axes._subplots.AxesSubplot at 0x247b1abc608>"
      ]
     },
     "execution_count": 232,
     "metadata": {},
     "output_type": "execute_result"
    },
    {
     "data": {
      "image/png": "[encoded data removed]",
      "text/plain": [
       "<Figure size 432x288 with 1 Axes>"
      ]
     },
     "metadata": {},
     "output_type": "display_data"
    }
   ],
   "source": [
    "df_model.boxplot(column='nb_cit')"
   ]
  },
  {
   "cell_type": "code",
   "execution_count": 118,
   "metadata": {
    "scrolled": true
   },
   "outputs": [
    {
     "data": {
      "text/html": [
       "<div>\n",
       "<style scoped>\n",
       "    .dataframe tbody tr th:only-of-type {\n",
       "        vertical-align: middle;\n",
       "    }\n",
       "\n",
       "    .dataframe tbody tr th {\n",
       "        vertical-align: top;\n",
       "    }\n",
       "\n",
       "    .dataframe thead th {\n",
       "        text-align: right;\n",
       "    }\n",
       "</style>\n",
       "<table border=\"1\" class=\"dataframe\">\n",
       "  <thead>\n",
       "    <tr style=\"text-align: right;\">\n",
       "      <th></th>\n",
       "      <th>nb_downl</th>\n",
       "      <th>nb_pages</th>\n",
       "      <th>Students</th>\n",
       "      <th>nb_works</th>\n",
       "      <th>h_index</th>\n",
       "      <th>nb_cit</th>\n",
       "      <th>descri_len</th>\n",
       "      <th>len_work</th>\n",
       "    </tr>\n",
       "  </thead>\n",
       "  <tbody>\n",
       "    <tr>\n",
       "      <th>nb_downl</th>\n",
       "      <td>1.000000</td>\n",
       "      <td>0.396306</td>\n",
       "      <td>0.249675</td>\n",
       "      <td>0.408485</td>\n",
       "      <td>0.623589</td>\n",
       "      <td>0.645033</td>\n",
       "      <td>-0.002594</td>\n",
       "      <td>-0.052597</td>\n",
       "    </tr>\n",
       "    <tr>\n",
       "      <th>nb_pages</th>\n",
       "      <td>0.396306</td>\n",
       "      <td>1.000000</td>\n",
       "      <td>0.147468</td>\n",
       "      <td>0.776880</td>\n",
       "      <td>0.419433</td>\n",
       "      <td>0.326578</td>\n",
       "      <td>0.041817</td>\n",
       "      <td>0.305456</td>\n",
       "    </tr>\n",
       "    <tr>\n",
       "      <th>Students</th>\n",
       "      <td>0.249675</td>\n",
       "      <td>0.147468</td>\n",
       "      <td>1.000000</td>\n",
       "      <td>0.098824</td>\n",
       "      <td>0.363867</td>\n",
       "      <td>0.391855</td>\n",
       "      <td>-0.045049</td>\n",
       "      <td>0.065256</td>\n",
       "    </tr>\n",
       "    <tr>\n",
       "      <th>nb_works</th>\n",
       "      <td>0.408485</td>\n",
       "      <td>0.776880</td>\n",
       "      <td>0.098824</td>\n",
       "      <td>1.000000</td>\n",
       "      <td>0.315427</td>\n",
       "      <td>0.237833</td>\n",
       "      <td>0.072784</td>\n",
       "      <td>-0.274390</td>\n",
       "    </tr>\n",
       "    <tr>\n",
       "      <th>h_index</th>\n",
       "      <td>0.623589</td>\n",
       "      <td>0.419433</td>\n",
       "      <td>0.363867</td>\n",
       "      <td>0.315427</td>\n",
       "      <td>1.000000</td>\n",
       "      <td>0.893074</td>\n",
       "      <td>-0.044209</td>\n",
       "      <td>0.094814</td>\n",
       "    </tr>\n",
       "    <tr>\n",
       "      <th>nb_cit</th>\n",
       "      <td>0.645033</td>\n",
       "      <td>0.326578</td>\n",
       "      <td>0.391855</td>\n",
       "      <td>0.237833</td>\n",
       "      <td>0.893074</td>\n",
       "      <td>1.000000</td>\n",
       "      <td>-0.031451</td>\n",
       "      <td>0.079617</td>\n",
       "    </tr>\n",
       "    <tr>\n",
       "      <th>descri_len</th>\n",
       "      <td>-0.002594</td>\n",
       "      <td>0.041817</td>\n",
       "      <td>-0.045049</td>\n",
       "      <td>0.072784</td>\n",
       "      <td>-0.044209</td>\n",
       "      <td>-0.031451</td>\n",
       "      <td>1.000000</td>\n",
       "      <td>-0.050088</td>\n",
       "    </tr>\n",
       "    <tr>\n",
       "      <th>len_work</th>\n",
       "      <td>-0.052597</td>\n",
       "      <td>0.305456</td>\n",
       "      <td>0.065256</td>\n",
       "      <td>-0.274390</td>\n",
       "      <td>0.094814</td>\n",
       "      <td>0.079617</td>\n",
       "      <td>-0.050088</td>\n",
       "      <td>1.000000</td>\n",
       "    </tr>\n",
       "  </tbody>\n",
       "</table>\n",
       "</div>"
      ],
      "text/plain": [
       "            nb_downl  nb_pages  Students  nb_works   h_index    nb_cit  \\\n",
       "nb_downl    1.000000  0.396306  0.249675  0.408485  0.623589  0.645033   \n",
       "nb_pages    0.396306  1.000000  0.147468  0.776880  0.419433  0.326578   \n",
       "Students    0.249675  0.147468  1.000000  0.098824  0.363867  0.391855   \n",
       "nb_works    0.408485  0.776880  0.098824  1.000000  0.315427  0.237833   \n",
       "h_index     0.623589  0.419433  0.363867  0.315427  1.000000  0.893074   \n",
       "nb_cit      0.645033  0.326578  0.391855  0.237833  0.893074  1.000000   \n",
       "descri_len -0.002594  0.041817 -0.045049  0.072784 -0.044209 -0.031451   \n",
       "len_work   -0.052597  0.305456  0.065256 -0.274390  0.094814  0.079617   \n",
       "\n",
       "            descri_len  len_work  \n",
       "nb_downl     -0.002594 -0.052597  \n",
       "nb_pages      0.041817  0.305456  \n",
       "Students     -0.045049  0.065256  \n",
       "nb_works      0.072784 -0.274390  \n",
       "h_index      -0.044209  0.094814  \n",
       "nb_cit       -0.031451  0.079617  \n",
       "descri_len    1.000000 -0.050088  \n",
       "len_work     -0.050088  1.000000  "
      ]
     },
     "execution_count": 118,
     "metadata": {},
     "output_type": "execute_result"
    }
   ],
   "source": [
    "# analysis of correlation of numerical features\n",
    "df_num.corr()"
   ]
  },
  {
   "cell_type": "code",
   "execution_count": 233,
   "metadata": {},
   "outputs": [
    {
     "data": {
      "text/plain": [
       "<matplotlib.axes._subplots.AxesSubplot at 0x247b1b23608>"
      ]
     },
     "execution_count": 233,
     "metadata": {},
     "output_type": "execute_result"
    },
    {
     "data": {
      "image/png": "[encoded data removed]",
      "text/plain": [
       "<Figure size 432x288 with 2 Axes>"
      ]
     },
     "metadata": {},
     "output_type": "display_data"
    }
   ],
   "source": [
    "cmap = sns.diverging_palette(220, 10, as_cmap=True)\n",
    "sns.heatmap(df_num.corr(), cmap=cmap, )"
   ]
  },
  {
   "cell_type": "code",
   "execution_count": null,
   "metadata": {},
   "outputs": [],
   "source": [
    "# highly corrolated features : \n",
    "# h_index & nb_cit\n",
    "# nb_pages & nb_works"
   ]
  },
  {
   "cell_type": "code",
   "execution_count": 234,
   "metadata": {},
   "outputs": [
    {
     "data": {
      "image/png": "[encoded data removed]",
      "text/plain": [
       "<Figure size 432x288 with 1 Axes>"
      ]
     },
     "metadata": {},
     "output_type": "display_data"
    },
    {
     "data": {
      "image/png": "[encoded data removed]",
      "text/plain": [
       "<Figure size 432x288 with 1 Axes>"
      ]
     },
     "metadata": {},
     "output_type": "display_data"
    },
    {
     "data": {
      "image/png": "[encoded data removed]",
      "text/plain": [
       "<Figure size 432x288 with 1 Axes>"
      ]
     },
     "metadata": {},
     "output_type": "display_data"
    },
    {
     "data": {
      "image/png": "[encoded data removed]",
      "text/plain": [
       "<Figure size 432x288 with 1 Axes>"
      ]
     },
     "metadata": {},
     "output_type": "display_data"
    },
    {
     "data": {
      "image/png": "[encoded data removed]",
      "text/plain": [
       "<Figure size 432x288 with 1 Axes>"
      ]
     },
     "metadata": {},
     "output_type": "display_data"
    }
   ],
   "source": [
    "# analysis of categorical features\n",
    "for i in df_cat.columns:\n",
    "    cat_values = df_cat[i].value_counts()\n",
    "    sns.barplot(x=cat_values.index, y=cat_values, data=df_cat, palette=\"Wistia\")\n",
    "    plt.title(i)\n",
    "    plt.show()"
   ]
  },
  {
   "cell_type": "code",
   "execution_count": 235,
   "metadata": {},
   "outputs": [
    {
     "data": {
      "image/png": "[encoded data removed]",
      "text/plain": [
       "<Figure size 360x360 with 1 Axes>"
      ]
     },
     "metadata": {},
     "output_type": "display_data"
    }
   ],
   "source": [
    "sns.catplot(x='top10_shangai_yn', y='nb_cit', hue='nobel', data=df_model, kind='bar', legend_out=False)\n",
    "plt.title('Number of citations')\n",
    "plt.ylabel(\"citations\")\n",
    "plt.xlabel(\"top 10 universities\")\n",
    "plt.show()"
   ]
  },
  {
   "cell_type": "code",
   "execution_count": 159,
   "metadata": {},
   "outputs": [],
   "source": [
    "#Q1: cross analysis of nobel winners performance & top 10 universities economists compared to other economists"
   ]
  },
  {
   "cell_type": "code",
   "execution_count": 131,
   "metadata": {},
   "outputs": [
    {
     "data": {
      "text/plain": [
       "Index(['nb_downl', 'nb_pages', 'Students', 'nb_works', 'h_index', 'nb_cit',\n",
       "       'vn_award', 'clark', 'nobel', 'top10_shangai_yn', 'usa_yn',\n",
       "       'descri_len', 'len_work'],\n",
       "      dtype='object')"
      ]
     },
     "execution_count": 131,
     "metadata": {},
     "output_type": "execute_result"
    }
   ],
   "source": [
    "df_model.columns"
   ]
  },
  {
   "cell_type": "code",
   "execution_count": 236,
   "metadata": {},
   "outputs": [
    {
     "data": {
      "image/png": "[encoded data removed]",
      "text/plain": [
       "<Figure size 360x360 with 1 Axes>"
      ]
     },
     "metadata": {},
     "output_type": "display_data"
    }
   ],
   "source": [
    "sns.catplot(x='top10_shangai_yn', y='nb_downl', hue='nobel', data=df_model, kind='bar', legend_out=False )\n",
    "plt.title('Number of downloads')\n",
    "plt.ylabel(\"downloads\")\n",
    "plt.xlabel(\"top 10 universities\")\n",
    "plt.show()"
   ]
  },
  {
   "cell_type": "code",
   "execution_count": 237,
   "metadata": {
    "scrolled": true
   },
   "outputs": [
    {
     "data": {
      "image/png": "[encoded data removed]",
      "text/plain": [
       "<Figure size 360x360 with 1 Axes>"
      ]
     },
     "metadata": {},
     "output_type": "display_data"
    }
   ],
   "source": [
    "sns.catplot(x='top10_shangai_yn', y='Students', hue='nobel', data=df_model, kind='bar', legend_out=False)\n",
    "plt.title('Number of students')\n",
    "plt.xlabel(\"top 10 universities\")\n",
    "plt.show()"
   ]
  },
  {
   "cell_type": "code",
   "execution_count": 238,
   "metadata": {
    "scrolled": true
   },
   "outputs": [
    {
     "data": {
      "image/png": "[encoded data removed]",
      "text/plain": [
       "<Figure size 360x360 with 1 Axes>"
      ]
     },
     "metadata": {},
     "output_type": "display_data"
    }
   ],
   "source": [
    "sns.catplot(x='top10_shangai_yn', y='h_index', hue='nobel', data=df_model, kind='bar', legend_out=False)\n",
    "plt.title('h index score')\n",
    "plt.ylabel(\"h index\")\n",
    "plt.xlabel(\"top 10 universities\")\n",
    "plt.show()"
   ]
  },
  {
   "cell_type": "code",
   "execution_count": 239,
   "metadata": {},
   "outputs": [
    {
     "data": {
      "image/png": "[encoded data removed]",
      "text/plain": [
       "<Figure size 360x360 with 1 Axes>"
      ]
     },
     "metadata": {},
     "output_type": "display_data"
    }
   ],
   "source": [
    "sns.catplot(x='top10_shangai_yn', y='nb_works', hue='nobel', data=df_model, kind='bar', legend_out=False)\n",
    "plt.title('Number of works published')\n",
    "plt.ylabel(\"number of works\")\n",
    "plt.xlabel(\"top 10 universities\")\n",
    "plt.show()"
   ]
  },
  {
   "cell_type": "markdown",
   "metadata": {},
   "source": [
    "**Analysis** : Nobel prize winners affiliated to a top 10 shangai university tend to have substantially more students. Their work is more downloaded, they have more citations. \n",
    "Nobel prize winners score a higher h index, however the fact that they belong to a top 10 university doesn't imply a higher h index. But for non nobel prize winners, belonging to a top 10 universities tend to corrolate with higher h indexes.\n",
    "Economists at top 10 universities and/or nobel prize winners tend to publish slightly less amount of works on average."
   ]
  },
  {
   "cell_type": "code",
   "execution_count": 158,
   "metadata": {},
   "outputs": [],
   "source": [
    "# Q2: How economists working in the us perform in comparisson to others?"
   ]
  },
  {
   "cell_type": "code",
   "execution_count": 240,
   "metadata": {},
   "outputs": [
    {
     "data": {
      "image/png": "[encoded data removed]",
      "text/plain": [
       "<Figure size 720x360 with 2 Axes>"
      ]
     },
     "metadata": {},
     "output_type": "display_data"
    }
   ],
   "source": [
    "g = sns.catplot(\"usa_yn\", \"h_index\", col=\"nobel\", data=df_model, kind='violin', palette=\"Pastel1\")\n",
    "g.set_axis_labels(\"working country\", \"h score\")\n",
    "g.set_xticklabels([\"work not in us\", \"work in us\"])\n",
    "plt.show()"
   ]
  },
  {
   "cell_type": "code",
   "execution_count": 241,
   "metadata": {},
   "outputs": [
    {
     "data": {
      "image/png": "[encoded data removed]",
      "text/plain": [
       "<Figure size 720x360 with 2 Axes>"
      ]
     },
     "metadata": {},
     "output_type": "display_data"
    }
   ],
   "source": [
    "g = sns.catplot(\"usa_yn\", \"nb_cit\", col=\"nobel\", data=df_model, kind='bar', palette=\"Pastel2\", )\n",
    "g.set_axis_labels(\"working country\", \"number of citations\")\n",
    "g.set_xticklabels([\"work not in us\", \"work in us\"])\n",
    "plt.show()"
   ]
  },
  {
   "cell_type": "markdown",
   "metadata": {},
   "source": [
    "**Analysis** : among regular economists, we notice that on average economists working in the us \"perform\" slightly better having higher h scores and having more citations. However for nobel economists we notice no performance difference between economists working in the us and does who are not (but careful because our sample of nobel winners not working in the us is very small)"
   ]
  },
  {
   "cell_type": "code",
   "execution_count": 253,
   "metadata": {},
   "outputs": [
    {
     "data": {
      "text/html": [
       "<div>\n",
       "<style scoped>\n",
       "    .dataframe tbody tr th:only-of-type {\n",
       "        vertical-align: middle;\n",
       "    }\n",
       "\n",
       "    .dataframe tbody tr th {\n",
       "        vertical-align: top;\n",
       "    }\n",
       "\n",
       "    .dataframe thead th {\n",
       "        text-align: right;\n",
       "    }\n",
       "</style>\n",
       "<table border=\"1\" class=\"dataframe\">\n",
       "  <thead>\n",
       "    <tr style=\"text-align: right;\">\n",
       "      <th></th>\n",
       "      <th></th>\n",
       "      <th>nb_cit</th>\n",
       "    </tr>\n",
       "    <tr>\n",
       "      <th>top10_shangai_yn</th>\n",
       "      <th>nobel</th>\n",
       "      <th></th>\n",
       "    </tr>\n",
       "  </thead>\n",
       "  <tbody>\n",
       "    <tr>\n",
       "      <th rowspan=\"2\" valign=\"top\">0</th>\n",
       "      <th>0</th>\n",
       "      <td>3828.724382</td>\n",
       "    </tr>\n",
       "    <tr>\n",
       "      <th>1</th>\n",
       "      <td>9097.285714</td>\n",
       "    </tr>\n",
       "    <tr>\n",
       "      <th rowspan=\"2\" valign=\"top\">1</th>\n",
       "      <th>0</th>\n",
       "      <td>7523.494253</td>\n",
       "    </tr>\n",
       "    <tr>\n",
       "      <th>1</th>\n",
       "      <td>11254.000000</td>\n",
       "    </tr>\n",
       "  </tbody>\n",
       "</table>\n",
       "</div>"
      ],
      "text/plain": [
       "                              nb_cit\n",
       "top10_shangai_yn nobel              \n",
       "0                0       3828.724382\n",
       "                 1       9097.285714\n",
       "1                0       7523.494253\n",
       "                 1      11254.000000"
      ]
     },
     "execution_count": 253,
     "metadata": {},
     "output_type": "execute_result"
    }
   ],
   "source": [
    "# analysis trough pivot tables\n",
    "pd.pivot_table(df_model, values='nb_cit', index=['top10_shangai_yn', 'nobel'],\n",
    "                       aggfunc=np.mean)\n"
   ]
  },
  {
   "cell_type": "code",
   "execution_count": 261,
   "metadata": {},
   "outputs": [
    {
     "data": {
      "text/html": [
       "<div>\n",
       "<style scoped>\n",
       "    .dataframe tbody tr th:only-of-type {\n",
       "        vertical-align: middle;\n",
       "    }\n",
       "\n",
       "    .dataframe tbody tr th {\n",
       "        vertical-align: top;\n",
       "    }\n",
       "\n",
       "    .dataframe thead th {\n",
       "        text-align: right;\n",
       "    }\n",
       "</style>\n",
       "<table border=\"1\" class=\"dataframe\">\n",
       "  <thead>\n",
       "    <tr style=\"text-align: right;\">\n",
       "      <th>clark</th>\n",
       "      <th>0</th>\n",
       "      <th>1</th>\n",
       "    </tr>\n",
       "    <tr>\n",
       "      <th>vn_award</th>\n",
       "      <th></th>\n",
       "      <th></th>\n",
       "    </tr>\n",
       "  </thead>\n",
       "  <tbody>\n",
       "    <tr>\n",
       "      <th>0</th>\n",
       "      <td>18</td>\n",
       "      <td>7</td>\n",
       "    </tr>\n",
       "    <tr>\n",
       "      <th>1</th>\n",
       "      <td>2</td>\n",
       "      <td>3</td>\n",
       "    </tr>\n",
       "  </tbody>\n",
       "</table>\n",
       "</div>"
      ],
      "text/plain": [
       "clark      0  1\n",
       "vn_award       \n",
       "0         18  7\n",
       "1          2  3"
      ]
     },
     "execution_count": 261,
     "metadata": {},
     "output_type": "execute_result"
    }
   ],
   "source": [
    "pd.pivot_table(df_model, values='nobel', index=['vn_award'], columns=['clark'],\n",
    "                       aggfunc=np.sum)"
   ]
  },
  {
   "cell_type": "code",
   "execution_count": 275,
   "metadata": {
    "scrolled": true
   },
   "outputs": [
    {
     "name": "stdout",
     "output_type": "stream",
     "text": [
      "proportion of von neuman award winners whose got a nobel 0.56\n",
      "proportion of clark medal winners whose got a nobel 0.56\n"
     ]
    }
   ],
   "source": [
    "print('proportion of von neuman award winners whose got a nobel', round(5/9,2))\n",
    "print('proportion of clark medal winners whose got a nobel', round(10/18,2))"
   ]
  },
  {
   "cell_type": "code",
   "execution_count": 274,
   "metadata": {},
   "outputs": [
    {
     "data": {
      "text/html": [
       "<div>\n",
       "<style scoped>\n",
       "    .dataframe tbody tr th:only-of-type {\n",
       "        vertical-align: middle;\n",
       "    }\n",
       "\n",
       "    .dataframe tbody tr th {\n",
       "        vertical-align: top;\n",
       "    }\n",
       "\n",
       "    .dataframe thead th {\n",
       "        text-align: right;\n",
       "    }\n",
       "</style>\n",
       "<table border=\"1\" class=\"dataframe\">\n",
       "  <thead>\n",
       "    <tr style=\"text-align: right;\">\n",
       "      <th></th>\n",
       "      <th>nobel</th>\n",
       "    </tr>\n",
       "    <tr>\n",
       "      <th>top10_shangai_yn</th>\n",
       "      <th></th>\n",
       "    </tr>\n",
       "  </thead>\n",
       "  <tbody>\n",
       "    <tr>\n",
       "      <th>0</th>\n",
       "      <td>7</td>\n",
       "    </tr>\n",
       "    <tr>\n",
       "      <th>1</th>\n",
       "      <td>23</td>\n",
       "    </tr>\n",
       "  </tbody>\n",
       "</table>\n",
       "</div>"
      ],
      "text/plain": [
       "                  nobel\n",
       "top10_shangai_yn       \n",
       "0                     7\n",
       "1                    23"
      ]
     },
     "execution_count": 274,
     "metadata": {},
     "output_type": "execute_result"
    }
   ],
   "source": [
    "pd.pivot_table(df_model, values='nobel', index=['top10_shangai_yn'],\n",
    "              aggfunc=np.sum)"
   ]
  },
  {
   "cell_type": "code",
   "execution_count": 276,
   "metadata": {},
   "outputs": [
    {
     "data": {
      "text/html": [
       "<div>\n",
       "<style scoped>\n",
       "    .dataframe tbody tr th:only-of-type {\n",
       "        vertical-align: middle;\n",
       "    }\n",
       "\n",
       "    .dataframe tbody tr th {\n",
       "        vertical-align: top;\n",
       "    }\n",
       "\n",
       "    .dataframe thead th {\n",
       "        text-align: right;\n",
       "    }\n",
       "</style>\n",
       "<table border=\"1\" class=\"dataframe\">\n",
       "  <thead>\n",
       "    <tr style=\"text-align: right;\">\n",
       "      <th></th>\n",
       "      <th>nobel</th>\n",
       "    </tr>\n",
       "    <tr>\n",
       "      <th>usa_yn</th>\n",
       "      <th></th>\n",
       "    </tr>\n",
       "  </thead>\n",
       "  <tbody>\n",
       "    <tr>\n",
       "      <th>0</th>\n",
       "      <td>3</td>\n",
       "    </tr>\n",
       "    <tr>\n",
       "      <th>1</th>\n",
       "      <td>27</td>\n",
       "    </tr>\n",
       "  </tbody>\n",
       "</table>\n",
       "</div>"
      ],
      "text/plain": [
       "        nobel\n",
       "usa_yn       \n",
       "0           3\n",
       "1          27"
      ]
     },
     "execution_count": 276,
     "metadata": {},
     "output_type": "execute_result"
    }
   ],
   "source": [
    "pd.pivot_table(df_model, values='nobel', index=['usa_yn'],\n",
    "              aggfunc=np.sum)"
   ]
  },
  {
   "cell_type": "markdown",
   "metadata": {},
   "source": [
    "**Analysis**: A high majority of nobel prize winners are affiliated to a top 10 university and work in the us"
   ]
  },
  {
   "cell_type": "markdown",
   "metadata": {},
   "source": [
    "> things to be careful in the model building:\n",
    "* highly corrolated features : \n",
    "    * h_index & nb_cit\n",
    "    * nb_pages & nb_works\n",
    "* normalize skewed distributions(nb_downl, nb_pages, students, nb_works, nb_cit)"
   ]
  },
  {
   "cell_type": "code",
   "execution_count": 278,
   "metadata": {},
   "outputs": [],
   "source": [
    "df_model.to_csv('data/data_model.csv', index=False)"
   ]
  }
 ],
 "metadata": {
  "kernelspec": {
   "display_name": "Python 3",
   "language": "python",
   "name": "python3"
  },
  "language_info": {
   "codemirror_mode": {
    "name": "ipython",
    "version": 3
   },
   "file_extension": ".py",
   "mimetype": "text/x-python",
   "name": "python",
   "nbconvert_exporter": "python",
   "pygments_lexer": "ipython3",
   "version": "3.7.6"
  }
 },
 "nbformat": 4,
 "nbformat_minor": 4
}
