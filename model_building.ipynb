{
 "cells": [
  {
   "cell_type": "markdown",
   "metadata": {},
   "source": [
    "# Model building - Classification"
   ]
  },
  {
   "cell_type": "markdown",
   "metadata": {},
   "source": [
    "### ressources:\n",
    "* [article about cost-sensitive regression](https://machinelearningmastery.com/cost-sensitive-logistic-regression/)\n",
    "* [article Bagging and Random Forest for Inbalanced Classification](https://machinelearningmastery.com/bagging-and-random-forest-for-imbalanced-classification/#:~:text=Bagging%20is%20an%20ensemble%20algorithm,used%20in%20each%20data%20sample.)\n",
    "* [article about metrics for classification problems](https://towardsdatascience.com/metrics-to-evaluate-your-machine-learning-algorithm-f10ba6e38234#:~:text=Area%20Under%20Curve(AUC)%20is,a%20randomly%20chosen%20negative%20example.)\n",
    "* [article : Tour of Evaluation Metrics for Imbalanced Classification](https://machinelearningmastery.com/tour-of-evaluation-metrics-for-imbalanced-classification/)\n",
    "* [article : ROC Curves and Precision-Recall Curves for Imbalanced Classification](https://machinelearningmastery.com/roc-curves-and-precision-recall-curves-for-imbalanced-classification/)"
   ]
  },
  {
   "cell_type": "code",
   "execution_count": 2,
   "metadata": {},
   "outputs": [],
   "source": [
    "import pandas as pd\n",
    "import numpy as np\n",
    "import matplotlib.pyplot as plt"
   ]
  },
  {
   "cell_type": "code",
   "execution_count": 3,
   "metadata": {},
   "outputs": [],
   "source": [
    "data = pd.read_csv('data/model_nobel.csv', index_col='Author_clean' )"
   ]
  },
  {
   "cell_type": "code",
   "execution_count": 4,
   "metadata": {},
   "outputs": [
    {
     "data": {
      "text/html": [
       "<div>\n",
       "<style scoped>\n",
       "    .dataframe tbody tr th:only-of-type {\n",
       "        vertical-align: middle;\n",
       "    }\n",
       "\n",
       "    .dataframe tbody tr th {\n",
       "        vertical-align: top;\n",
       "    }\n",
       "\n",
       "    .dataframe thead th {\n",
       "        text-align: right;\n",
       "    }\n",
       "</style>\n",
       "<table border=\"1\" class=\"dataframe\">\n",
       "  <thead>\n",
       "    <tr style=\"text-align: right;\">\n",
       "      <th></th>\n",
       "      <th>nb_downl</th>\n",
       "      <th>nb_pages</th>\n",
       "      <th>Students</th>\n",
       "      <th>nb_works</th>\n",
       "      <th>h_index</th>\n",
       "      <th>nb_cit</th>\n",
       "      <th>vn_award</th>\n",
       "      <th>clark</th>\n",
       "      <th>nobel</th>\n",
       "      <th>top10_shangai_yn</th>\n",
       "      <th>usa_yn</th>\n",
       "      <th>descri_len</th>\n",
       "      <th>len_work</th>\n",
       "    </tr>\n",
       "    <tr>\n",
       "      <th>Author_clean</th>\n",
       "      <th></th>\n",
       "      <th></th>\n",
       "      <th></th>\n",
       "      <th></th>\n",
       "      <th></th>\n",
       "      <th></th>\n",
       "      <th></th>\n",
       "      <th></th>\n",
       "      <th></th>\n",
       "      <th></th>\n",
       "      <th></th>\n",
       "      <th></th>\n",
       "      <th></th>\n",
       "    </tr>\n",
       "  </thead>\n",
       "  <tbody>\n",
       "    <tr>\n",
       "      <th>Christopher F</th>\n",
       "      <td>7515</td>\n",
       "      <td>1099</td>\n",
       "      <td>10.0</td>\n",
       "      <td>415</td>\n",
       "      <td>21</td>\n",
       "      <td>3062</td>\n",
       "      <td>0</td>\n",
       "      <td>0</td>\n",
       "      <td>0</td>\n",
       "      <td>0</td>\n",
       "      <td>1</td>\n",
       "      <td>12.0</td>\n",
       "      <td>3.0</td>\n",
       "    </tr>\n",
       "    <tr>\n",
       "      <th>Daron Acemoglu</th>\n",
       "      <td>6537</td>\n",
       "      <td>5349</td>\n",
       "      <td>23.0</td>\n",
       "      <td>645</td>\n",
       "      <td>72</td>\n",
       "      <td>24703</td>\n",
       "      <td>1</td>\n",
       "      <td>1</td>\n",
       "      <td>0</td>\n",
       "      <td>1</td>\n",
       "      <td>1</td>\n",
       "      <td>12.0</td>\n",
       "      <td>8.0</td>\n",
       "    </tr>\n",
       "    <tr>\n",
       "      <th>Joseph E. Stiglitz</th>\n",
       "      <td>6290</td>\n",
       "      <td>5753</td>\n",
       "      <td>6.0</td>\n",
       "      <td>643</td>\n",
       "      <td>72</td>\n",
       "      <td>25947</td>\n",
       "      <td>0</td>\n",
       "      <td>1</td>\n",
       "      <td>1</td>\n",
       "      <td>1</td>\n",
       "      <td>1</td>\n",
       "      <td>19.0</td>\n",
       "      <td>9.0</td>\n",
       "    </tr>\n",
       "    <tr>\n",
       "      <th>John List</th>\n",
       "      <td>5632</td>\n",
       "      <td>3642</td>\n",
       "      <td>5.0</td>\n",
       "      <td>681</td>\n",
       "      <td>56</td>\n",
       "      <td>11165</td>\n",
       "      <td>0</td>\n",
       "      <td>0</td>\n",
       "      <td>0</td>\n",
       "      <td>1</td>\n",
       "      <td>1</td>\n",
       "      <td>11.0</td>\n",
       "      <td>5.0</td>\n",
       "    </tr>\n",
       "    <tr>\n",
       "      <th>Robert J. Barro</th>\n",
       "      <td>5426</td>\n",
       "      <td>2705</td>\n",
       "      <td>7.0</td>\n",
       "      <td>329</td>\n",
       "      <td>65</td>\n",
       "      <td>31421</td>\n",
       "      <td>0</td>\n",
       "      <td>0</td>\n",
       "      <td>0</td>\n",
       "      <td>1</td>\n",
       "      <td>1</td>\n",
       "      <td>11.0</td>\n",
       "      <td>8.0</td>\n",
       "    </tr>\n",
       "  </tbody>\n",
       "</table>\n",
       "</div>"
      ],
      "text/plain": [
       "                    nb_downl  nb_pages  Students  nb_works  h_index  nb_cit  \\\n",
       "Author_clean                                                                  \n",
       "Christopher F           7515      1099      10.0       415       21    3062   \n",
       "Daron Acemoglu          6537      5349      23.0       645       72   24703   \n",
       "Joseph E. Stiglitz      6290      5753       6.0       643       72   25947   \n",
       "John List               5632      3642       5.0       681       56   11165   \n",
       "Robert J. Barro         5426      2705       7.0       329       65   31421   \n",
       "\n",
       "                    vn_award  clark  nobel  top10_shangai_yn  usa_yn  \\\n",
       "Author_clean                                                           \n",
       "Christopher F              0      0      0                 0       1   \n",
       "Daron Acemoglu             1      1      0                 1       1   \n",
       "Joseph E. Stiglitz         0      1      1                 1       1   \n",
       "John List                  0      0      0                 1       1   \n",
       "Robert J. Barro            0      0      0                 1       1   \n",
       "\n",
       "                    descri_len  len_work  \n",
       "Author_clean                              \n",
       "Christopher F             12.0       3.0  \n",
       "Daron Acemoglu            12.0       8.0  \n",
       "Joseph E. Stiglitz        19.0       9.0  \n",
       "John List                 11.0       5.0  \n",
       "Robert J. Barro           11.0       8.0  "
      ]
     },
     "execution_count": 4,
     "metadata": {},
     "output_type": "execute_result"
    }
   ],
   "source": [
    "data.head()"
   ]
  },
  {
   "cell_type": "code",
   "execution_count": 5,
   "metadata": {},
   "outputs": [
    {
     "data": {
      "text/plain": [
       "(399, 13)"
      ]
     },
     "execution_count": 5,
     "metadata": {},
     "output_type": "execute_result"
    }
   ],
   "source": [
    "data.shape"
   ]
  },
  {
   "cell_type": "code",
   "execution_count": 6,
   "metadata": {},
   "outputs": [],
   "source": [
    "X = data.drop('nobel', axis=1)\n",
    "y = data['nobel']"
   ]
  },
  {
   "cell_type": "code",
   "execution_count": 7,
   "metadata": {},
   "outputs": [],
   "source": [
    "from sklearn.model_selection import train_test_split"
   ]
  },
  {
   "cell_type": "code",
   "execution_count": 21,
   "metadata": {},
   "outputs": [],
   "source": [
    "# train test split\n",
    "X_train, X_test, y_train, y_test = train_test_split(X, y,\n",
    "                                                    stratify=y,\n",
    "                                                    test_size = 0.3)"
   ]
  },
  {
   "cell_type": "code",
   "execution_count": 22,
   "metadata": {},
   "outputs": [
    {
     "data": {
      "text/plain": [
       "0    258\n",
       "1     21\n",
       "Name: nobel, dtype: int64"
      ]
     },
     "execution_count": 22,
     "metadata": {},
     "output_type": "execute_result"
    }
   ],
   "source": [
    "y_train.value_counts()"
   ]
  },
  {
   "cell_type": "code",
   "execution_count": 23,
   "metadata": {},
   "outputs": [
    {
     "data": {
      "text/plain": [
       "0    111\n",
       "1      9\n",
       "Name: nobel, dtype: int64"
      ]
     },
     "execution_count": 23,
     "metadata": {},
     "output_type": "execute_result"
    }
   ],
   "source": [
    "y_test.value_counts()"
   ]
  },
  {
   "cell_type": "code",
   "execution_count": 24,
   "metadata": {},
   "outputs": [
    {
     "name": "stdout",
     "output_type": "stream",
     "text": [
      "prop nobel in train set 0.075\n",
      "prop nobel in test set 0.075\n"
     ]
    }
   ],
   "source": [
    "print('prop nobel in train set', round(24/(295+24), 3))\n",
    "print('prop nobel in test set', round(6/(80), 3))"
   ]
  },
  {
   "cell_type": "code",
   "execution_count": 100,
   "metadata": {},
   "outputs": [
    {
     "name": "stdout",
     "output_type": "stream",
     "text": [
      "Mean ROC AUC: 0.770\n"
     ]
    }
   ],
   "source": [
    "# logistic regression\n",
    "    # a. without cost-sensitive\n",
    "    \n",
    "from sklearn.model_selection import cross_val_score\n",
    "from sklearn.model_selection import StratifiedKFold\n",
    "from sklearn.linear_model import LogisticRegression\n",
    "\n",
    "log_r = LogisticRegression(solver='liblinear')\n",
    "cv = StratifiedKFold(n_splits=2)\n",
    "scores = cross_val_score(log_r, X_train, y_train, cv=cv, scoring='roc_auc', n_jobs= -1)\n",
    "print('Mean ROC AUC: %.3f' % np.mean(scores))"
   ]
  },
  {
   "cell_type": "code",
   "execution_count": 101,
   "metadata": {},
   "outputs": [
    {
     "name": "stdout",
     "output_type": "stream",
     "text": [
      "Mean ROC AUC: 0.783\n"
     ]
    }
   ],
   "source": [
    "    #b. with cost-sensitive tuning\n",
    "        # default class weighting\n",
    "log_cs = LogisticRegression(solver='liblinear', class_weight='balanced')\n",
    "cv = StratifiedKFold(n_splits=2)\n",
    "scores = cross_val_score(log_cs, X_train, y_train, cv=cv, scoring='roc_auc', n_jobs= -1)\n",
    "print('Mean ROC AUC: %.3f' % np.mean(scores))"
   ]
  },
  {
   "cell_type": "code",
   "execution_count": 55,
   "metadata": {},
   "outputs": [
    {
     "name": "stdout",
     "output_type": "stream",
     "text": [
      "Best: 0.786857 using {'class_weight': {0: 1, 1: 10}}\n",
      "0.783051 (0.106307) with: {'class_weight': {0: 1, 1: 20}}\n",
      "0.783228 (0.110359) with: {'class_weight': {0: 1, 1: 30}}\n",
      "0.786011 (0.098414) with: {'class_weight': {0: 1, 1: 12}}\n",
      "0.786857 (0.096159) with: {'class_weight': {0: 1, 1: 10}}\n",
      "0.777801 (0.108034) with: {'class_weight': {0: 1, 1: 100}}\n"
     ]
    }
   ],
   "source": [
    "        # using grid search  to possibly find a better weighting \n",
    "from sklearn.model_selection import GridSearchCV\n",
    "balance = [{0: 1,1:20}, {0:1,1:30}, {0:1,1:12}, {0:1,1:10}, {0:1,1:100}]\n",
    "param_grid = dict(class_weight=balance)\n",
    "# define evaluation procedure\n",
    "cv = StratifiedKFold(n_splits=2)\n",
    "# define grid search\n",
    "grid = GridSearchCV(estimator=log_cs, param_grid=param_grid, n_jobs=-1, cv=cv, scoring='roc_auc')\n",
    "# execute the grid search\n",
    "grid_result = grid.fit(X_train, y_train)\n",
    "# report the best configuration\n",
    "print(\"Best: %f using %s\" % (grid_result.best_score_, grid_result.best_params_))\n",
    "# report all configurations\n",
    "means = grid_result.cv_results_['mean_test_score']\n",
    "stds = grid_result.cv_results_['std_test_score']\n",
    "params = grid_result.cv_results_['params']\n",
    "for mean, stdev, param in zip(means, stds, params):\n",
    "    print(\"%f (%f) with: %r\" % (mean, stdev, param))"
   ]
  },
  {
   "cell_type": "code",
   "execution_count": 103,
   "metadata": {},
   "outputs": [
    {
     "name": "stdout",
     "output_type": "stream",
     "text": [
      "Mean ROC AUC: 0.7869\n"
     ]
    }
   ],
   "source": [
    "        # optimized cost sensitive logistic regression\n",
    "weights = {0:1, 1:10}\n",
    "log_opt = LogisticRegression(solver='liblinear', class_weight=weights)\n",
    "cv = StratifiedKFold(n_splits=2)\n",
    "scores = cross_val_score(log_opt, X_train, y_train, cv=cv, scoring='roc_auc', n_jobs= -1)\n",
    "print('Mean ROC AUC: %.4f' % np.mean(scores))"
   ]
  },
  {
   "cell_type": "code",
   "execution_count": 126,
   "metadata": {},
   "outputs": [
    {
     "data": {
      "text/plain": [
       "array([[215,  43],\n",
       "       [  4,  17]], dtype=int64)"
      ]
     },
     "execution_count": 126,
     "metadata": {},
     "output_type": "execute_result"
    }
   ],
   "source": [
    "log_opt.fit(X_train, y_train)\n",
    "pred_train = log_opt.predict(X_train)\n",
    "\n",
    "from sklearn.metrics import confusion_matrix\n",
    "confusion_matrix(y_train, pred_train)"
   ]
  },
  {
   "cell_type": "code",
   "execution_count": 127,
   "metadata": {},
   "outputs": [
    {
     "name": "stdout",
     "output_type": "stream",
     "text": [
      "Classic performance evaluation, proportion of guesses right: 0.8315412186379928\n"
     ]
    }
   ],
   "source": [
    "score = log_opt.score(X_train, y_train)\n",
    "print('Classic performance evaluation, proportion of guesses right:', score)"
   ]
  },
  {
   "cell_type": "code",
   "execution_count": 117,
   "metadata": {},
   "outputs": [
    {
     "name": "stdout",
     "output_type": "stream",
     "text": [
      "Mean ROC AUC: 0.602\n"
     ]
    }
   ],
   "source": [
    "# KNN classifier\n",
    "from sklearn.neighbors import KNeighborsClassifier\n",
    "neigh = KNeighborsClassifier(n_neighbors=3, )\n",
    "neigh.fit(X_train, y_train)\n",
    "cv = StratifiedKFold(n_splits=3)\n",
    "scores = cross_val_score(neigh, X_train, y_train, cv=cv, scoring='roc_auc', n_jobs= -1)\n",
    "print('Mean ROC AUC: %.3f' % np.mean(scores))"
   ]
  },
  {
   "cell_type": "code",
   "execution_count": 162,
   "metadata": {},
   "outputs": [
    {
     "name": "stdout",
     "output_type": "stream",
     "text": [
      "Mean ROC AUC: 0.841\n"
     ]
    }
   ],
   "source": [
    "# Random Forest classifier\n",
    "    # cost-sensitive tuning\n",
    "from sklearn.ensemble import RandomForestClassifier\n",
    "rfc = RandomForestClassifier(random_state=0, class_weight='balanced')\n",
    "cv = StratifiedKFold(n_splits=4)\n",
    "scores = cross_val_score(rfc, X_train, y_train, cv=cv, scoring='roc_auc', n_jobs= -1)\n",
    "print('Mean ROC AUC: %.3f' % np.mean(scores))"
   ]
  },
  {
   "cell_type": "code",
   "execution_count": null,
   "metadata": {},
   "outputs": [],
   "source": []
  },
  {
   "cell_type": "code",
   "execution_count": 163,
   "metadata": {},
   "outputs": [
    {
     "name": "stdout",
     "output_type": "stream",
     "text": [
      "Best: 0.850085 using {'criterion': 'gini', 'max_features': 'auto', 'n_estimators': 60}\n"
     ]
    }
   ],
   "source": [
    "    # parameter tuning \n",
    "parameters = {'n_estimators':range(10,300,10), 'criterion':('gini','entropy'), 'max_features':('auto','sqrt','log2')}\n",
    "\n",
    "gs = GridSearchCV(rfc,parameters,scoring='roc_auc',cv=cv)\n",
    "gs.fit(X_train,y_train)\n",
    "\n",
    "print(\"Best: %f using %s\" % (gs.best_score_, gs.best_params_))"
   ]
  },
  {
   "cell_type": "code",
   "execution_count": 168,
   "metadata": {
    "scrolled": true
   },
   "outputs": [
    {
     "name": "stdout",
     "output_type": "stream",
     "text": [
      "Mean ROC AUC: 0.850\n"
     ]
    }
   ],
   "source": [
    "    # random forrest classifier optimized\n",
    "rfc = RandomForestClassifier(n_estimators=60, criterion='gini', max_features='auto', random_state=0, class_weight='balanced')\n",
    "cv = StratifiedKFold(n_splits=4)\n",
    "scores = cross_val_score(rfc, X_train, y_train, cv=cv, scoring='roc_auc', n_jobs= -1)\n",
    "print('Mean ROC AUC: %.3f' % np.mean(scores))"
   ]
  },
  {
   "cell_type": "code",
   "execution_count": 174,
   "metadata": {},
   "outputs": [
    {
     "name": "stdout",
     "output_type": "stream",
     "text": [
      "Mean ROC AUC: 0.795\n"
     ]
    }
   ],
   "source": [
    "    # random forest with random undersampling\n",
    "from imblearn.ensemble import BalancedRandomForestClassifier\n",
    "rfus = BalancedRandomForestClassifier(random_state=0, class_weight='balanced')\n",
    "cv = StratifiedKFold(n_splits=4)\n",
    "scores = cross_val_score(rfus, X_train, y_train, cv=cv, scoring='roc_auc', n_jobs= -1)\n",
    "print('Mean ROC AUC: %.3f' % np.mean(scores))"
   ]
  },
  {
   "cell_type": "code",
   "execution_count": 175,
   "metadata": {},
   "outputs": [
    {
     "name": "stdout",
     "output_type": "stream",
     "text": [
      "Best: 0.830298 using {'criterion': 'entropy', 'max_features': 'auto', 'n_estimators': 280}\n"
     ]
    }
   ],
   "source": [
    "    # parameter tuning \n",
    "parameters = {'n_estimators':range(10,300,10), 'criterion':('gini','entropy'), 'max_features':('auto','sqrt','log2')}\n",
    "\n",
    "gs = GridSearchCV(rfus,parameters,scoring='roc_auc',cv=cv)\n",
    "gs.fit(X_train,y_train)\n",
    "\n",
    "print(\"Best: %f using %s\" % (gs.best_score_, gs.best_params_))"
   ]
  },
  {
   "cell_type": "code",
   "execution_count": 184,
   "metadata": {},
   "outputs": [
    {
     "name": "stdout",
     "output_type": "stream",
     "text": [
      "Mean ROC AUC: 0.830\n"
     ]
    }
   ],
   "source": [
    "    # random forest with random undersampling (optimized)\n",
    "from imblearn.ensemble import BalancedRandomForestClassifier\n",
    "rfus = BalancedRandomForestClassifier(n_estimators=280,\n",
    "                                       random_state=0, class_weight='balanced', criterion='entropy', max_features='auto')\n",
    "cv = StratifiedKFold(n_splits=4)\n",
    "scores = cross_val_score(rfus, X_train, y_train, cv=cv, scoring='roc_auc', n_jobs= -1)\n",
    "print('Mean ROC AUC: %.3f' % np.mean(scores))"
   ]
  },
  {
   "cell_type": "code",
   "execution_count": 185,
   "metadata": {},
   "outputs": [],
   "source": [
    "# test 3 models on test set\n",
    "# 1. logisitic regression cost-sensitive\n",
    "# 2. KNN classfier\n",
    "# 3. Random forest classifier\n",
    "rfc.fit(X_train, y_train)\n",
    "rfus.fit(X_train, y_train)\n",
    "tpred_log = log_opt.predict(X_test)\n",
    "tpred_knn = neigh.predict(X_test)\n",
    "tpred_rf = rfc.predict(X_test)\n",
    "tpred_rfus = rfus.predict(X_test)\n"
   ]
  },
  {
   "cell_type": "code",
   "execution_count": 191,
   "metadata": {
    "scrolled": true
   },
   "outputs": [
    {
     "name": "stdout",
     "output_type": "stream",
     "text": [
      "Confusion matrix, cost-sensitive logisitic regression\n",
      "[[90 21]\n",
      " [ 2  7]]\n",
      "Confusion matrix, KNN classifier\n",
      "[[111   0]\n",
      " [  9   0]]\n",
      "Confusion matrix, Random forst classifier\n",
      "[[111   0]\n",
      " [  8   1]]\n",
      "Confusion matrix, RF w/ Random undersampling\n",
      "[[91 20]\n",
      " [ 1  8]]\n",
      "Confusion matrix, RF w/ Random undersampling Normalized\n",
      "[[0.81981982 0.18018018]\n",
      " [0.11111111 0.88888889]]\n"
     ]
    },
    {
     "data": {
      "image/png": "[encoded data removed]",
      "text/plain": [
       "<Figure size 432x288 with 2 Axes>"
      ]
     },
     "metadata": {
      "needs_background": "light"
     },
     "output_type": "display_data"
    },
    {
     "data": {
      "image/png": "[encoded data removed]",
      "text/plain": [
       "<Figure size 432x288 with 2 Axes>"
      ]
     },
     "metadata": {
      "needs_background": "light"
     },
     "output_type": "display_data"
    },
    {
     "data": {
      "image/png": "[encoded data removed]",
      "text/plain": [
       "<Figure size 432x288 with 2 Axes>"
      ]
     },
     "metadata": {
      "needs_background": "light"
     },
     "output_type": "display_data"
    },
    {
     "data": {
      "image/png": "[encoded data removed]",
      "text/plain": [
       "<Figure size 432x288 with 2 Axes>"
      ]
     },
     "metadata": {
      "needs_background": "light"
     },
     "output_type": "display_data"
    },
    {
     "data": {
      "image/png": "[encoded data removed]",
      "text/plain": [
       "<Figure size 432x288 with 2 Axes>"
      ]
     },
     "metadata": {
      "needs_background": "light"
     },
     "output_type": "display_data"
    }
   ],
   "source": [
    "# confusion matrices\n",
    "from sklearn.metrics import plot_confusion_matrix\n",
    "classifiers = [log_opt, neigh, rfc]\n",
    "titles_options = [(\"Confusion matrix, cost-sensitive logisitic regression\", None, log_opt),\n",
    "                  (\"Confusion matrix, KNN classifier\", None, neigh),\n",
    "                  (\"Confusion matrix, Random forst classifier\", None, rfc),\n",
    "                  (\"Confusion matrix, RF w/ Random undersampling\", None, rfus),\n",
    "                  (\"Confusion matrix, RF w/ Random undersampling Normalized\", 'true', rfus)]\n",
    "\n",
    "for title, normalize, classifier in titles_options:\n",
    "    disp = plot_confusion_matrix(classifier, X_test, y_test,\n",
    "                                 cmap=plt.cm.Blues,\n",
    "                                 normalize=normalize)\n",
    "    disp.ax_.set_title(title)\n",
    "\n",
    "    print(title)\n",
    "    print(disp.confusion_matrix)\n",
    "\n",
    "plt.show()"
   ]
  },
  {
   "cell_type": "markdown",
   "metadata": {},
   "source": [
    "AUC of a classifier is equal to the probability that the classifier will rank a randomly chosen positive example higher than a randomly chosen negative example. "
   ]
  },
  {
   "cell_type": "markdown",
   "metadata": {},
   "source": [
    "**Here the model which generalize the best if our Random forest w/ random undersampling**\n",
    "\n",
    "Let's evaluate this model with precise metrics"
   ]
  },
  {
   "cell_type": "code",
   "execution_count": 208,
   "metadata": {},
   "outputs": [],
   "source": [
    "# first get the probabilities predicited on the test set by the rfus model\n",
    "# predict probabilities\n",
    "ppred_rfus = rfus.predict_proba(X_test)\n",
    "# predicitions for the positiv class\n",
    "pos_ppred = ppred_rfus[:, 1]"
   ]
  },
  {
   "cell_type": "code",
   "execution_count": 189,
   "metadata": {},
   "outputs": [
    {
     "name": "stdout",
     "output_type": "stream",
     "text": [
      "Accuracy score, derived from the confusion matrix of rfus model : 0.825\n"
     ]
    }
   ],
   "source": [
    "# Accuracy score of our rfus model\n",
    "print('Accuracy score, derived from the confusion matrix of rfus model :', (91 + 8)/120)"
   ]
  },
  {
   "cell_type": "code",
   "execution_count": 209,
   "metadata": {},
   "outputs": [
    {
     "name": "stdout",
     "output_type": "stream",
     "text": [
      "AUC score of rfus model : 0.934\n"
     ]
    }
   ],
   "source": [
    "from sklearn.metrics import roc_auc_score\n",
    "auc_score = roc_auc_score(y_test, pos_ppred)\n",
    "print('AUC score of rfus model :', round(auc_score,3))"
   ]
  },
  {
   "cell_type": "code",
   "execution_count": 212,
   "metadata": {},
   "outputs": [
    {
     "data": {
      "text/plain": [
       "0.5073105906439239"
      ]
     },
     "execution_count": 212,
     "metadata": {},
     "output_type": "execute_result"
    }
   ],
   "source": [
    "# Precision-Recall Area Under Curve (AUC) Score (less optimistic thant ROC)\n",
    "from sklearn.metrics import precision_recall_curve\n",
    "from sklearn.metrics import auc\n",
    "precision, recall, _ = precision_recall_curve(y_test, pos_ppred)\n",
    "auc_score = auc(recall, precision, )\n",
    "auc_score"
   ]
  },
  {
   "cell_type": "code",
   "execution_count": 220,
   "metadata": {},
   "outputs": [
    {
     "name": "stdout",
     "output_type": "stream",
     "text": [
      "No Skill PR AUC: 0.139\n"
     ]
    },
    {
     "data": {
      "image/png": "[encoded data removed]",
      "text/plain": [
       "<Figure size 432x288 with 1 Axes>"
      ]
     },
     "metadata": {
      "needs_background": "light"
     },
     "output_type": "display_data"
    }
   ],
   "source": [
    "# compare to a naive classifier\n",
    "from sklearn.dummy import DummyClassifier\n",
    "from matplotlib import pyplot\n",
    "\n",
    "model = DummyClassifier(strategy='stratified')\n",
    "model.fit(X_train, y_train)\n",
    "yhat = model.predict_proba(X_test)\n",
    "naive_probs = yhat[:, 1]\n",
    "# calculate the precision-recall auc\n",
    "precision, recall, _ = precision_recall_curve(y_test, naive_probs)\n",
    "auc_score = auc(recall, precision)\n",
    "print('No Skill PR AUC: %.3f' % auc_score)\n",
    "\n",
    "# plot no skill and model precision-recall curves\n",
    "def plot_pr_curve(test_y, model_probs):\n",
    "    # calculate the no skill line as the proportion of the positive class\n",
    "\tno_skill = len(test_y[test_y==1]) / len(test_y)\n",
    "\t# plot the no skill precision-recall curve\n",
    "\tpyplot.plot([0, 1], [no_skill, no_skill], linestyle='--', label='No Skill')\n",
    "\t# plot model precision-recall curve\n",
    "\tprecision, recall, _ = precision_recall_curve(test_y, model_probs)\n",
    "\tpyplot.plot(recall, precision, marker='.', label='RF random undersampling')\n",
    "\t# axis labels\n",
    "\tpyplot.xlabel('Recall')\n",
    "\tpyplot.ylabel('Precision')\n",
    "\t# show the legend\n",
    "\tpyplot.legend()\n",
    "\t# show the plot\n",
    "\tpyplot.show()\n",
    "plot_pr_curve(y_test, pos_ppred)"
   ]
  },
  {
   "cell_type": "code",
   "execution_count": 195,
   "metadata": {},
   "outputs": [],
   "source": [
    "# F1 score "
   ]
  },
  {
   "cell_type": "markdown",
   "metadata": {},
   "source": [
    "F1 Score is the Harmonic Mean between precision and recall. The range for F1 Score is [0, 1]. It tells you how precise your classifier is (how many instances it classifies correctly), as well as how robust it is (it does not miss a significant number of instances).\n",
    "\n",
    "> Intuitively, precision is the ability of the classifier not to label as positive a sample that is negative, and recall is the ability of the classifier to find all the positive samples.\n",
    "> Maximizing precision will minimize the false-positive errors, whereas maximizing recall will minimize the false-negative errors."
   ]
  },
  {
   "cell_type": "code",
   "execution_count": 204,
   "metadata": {},
   "outputs": [
    {
     "name": "stdout",
     "output_type": "stream",
     "text": [
      "0.2857142857142857\n",
      "0.8888888888888888\n"
     ]
    },
    {
     "data": {
      "text/plain": [
       "0.43243243243243246"
      ]
     },
     "execution_count": 204,
     "metadata": {},
     "output_type": "execute_result"
    }
   ],
   "source": [
    "    # precision = sensitivity (how well the positive class was predicted)\n",
    "    # recall = TruePositive / (TruePositive + FalseNegative) = sensitivity\n",
    "\n",
    "from sklearn.metrics import precision_score\n",
    "from sklearn.metrics import recall_score\n",
    "print(precision_score(y_test, tpred_rfus))\n",
    "print(recall_score(y_test, tpred_rfus))\n",
    "from sklearn.metrics import f1_score\n",
    "f1_score(y_test, tpred_rfus, average='binary')"
   ]
  },
  {
   "cell_type": "code",
   "execution_count": 234,
   "metadata": {},
   "outputs": [
    {
     "name": "stdout",
     "output_type": "stream",
     "text": [
      "0.6249999999999999\n"
     ]
    }
   ],
   "source": [
    "# Since we really want to avoid false negatives (we favor our recall over precsion) -> we will prefer to benchmark the \n",
    "# performance of our model over a F2 score\n",
    "from sklearn.metrics import fbeta_score\n",
    "f2_score = fbeta_score(y_test, tpred_rfus, average='binary', beta=2)\n",
    "print(f2_score)"
   ]
  },
  {
   "cell_type": "code",
   "execution_count": 246,
   "metadata": {},
   "outputs": [],
   "source": [
    "# Since our data set is highly inbalanced, we need to favor specific metrics evaluator. We are mainly concerned by the algo\n",
    "# correclty predicting the positive outcome (sensitivity) at the cost of maybe having a higher (specificity -> missclassifing\n",
    "# negative outcomes)\n",
    "# metrics selected:\n",
    "    # accuracy score\n",
    "    # recall score\n",
    "    # F2_score\n",
    "    # PR AUC curve \n",
    "from sklearn.metrics import accuracy_score"
   ]
  },
  {
   "cell_type": "code",
   "execution_count": 245,
   "metadata": {},
   "outputs": [
    {
     "name": "stdout",
     "output_type": "stream",
     "text": [
      "Model performance (Random Forest Random undersampling)\n",
      "Accuracy score (proportion of observations correctly classified):  0.825\n",
      "Recall score (ability of the model to find all the positive samples) 0.889\n",
      "F2 score (recall performance of the model balanced by its precision) 0.625\n"
     ]
    }
   ],
   "source": [
    "print('Model performance (Random Forest Random undersampling)')\n",
    "print('Accuracy score (proportion of observations correctly classified): ', accuracy_score(y_test, tpred_rfus))\n",
    "print('Recall score (ability of the model to find all the positive samples)', round(recall_score(y_test, tpred_rfus),3))\n",
    "print('F2 score (recall performance of the model balanced by its precision)', round(f2_score,3))"
   ]
  },
  {
   "cell_type": "code",
   "execution_count": 42,
   "metadata": {},
   "outputs": [
    {
     "data": {
      "image/png": "[encoded data removed]",
      "text/plain": [
       "<Figure size 432x288 with 1 Axes>"
      ]
     },
     "metadata": {
      "needs_background": "light"
     },
     "output_type": "display_data"
    }
   ],
   "source": [
    "plot_pr_curve(y_test, pos_ppred)"
   ]
  },
  {
   "cell_type": "code",
   "execution_count": 43,
   "metadata": {},
   "outputs": [],
   "source": [
    "# Saving the model\n",
    "import pickle\n",
    "pickle.dump(rfus, open('nobel_rfus.pkl', 'wb'))"
   ]
  }
 ],
 "metadata": {
  "kernelspec": {
   "display_name": "Python 3",
   "language": "python",
   "name": "python3"
  },
  "language_info": {
   "codemirror_mode": {
    "name": "ipython",
    "version": 3
   },
   "file_extension": ".py",
   "mimetype": "text/x-python",
   "name": "python",
   "nbconvert_exporter": "python",
   "pygments_lexer": "ipython3",
   "version": "3.7.6"
  }
 },
 "nbformat": 4,
 "nbformat_minor": 4
}
