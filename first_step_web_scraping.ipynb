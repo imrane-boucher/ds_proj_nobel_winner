{
 "cells": [
  {
   "cell_type": "markdown",
   "metadata": {},
   "source": [
    "# First step : Data web scraping & data collecting"
   ]
  },
  {
   "cell_type": "markdown",
   "metadata": {},
   "source": [
    "### Import used librairies"
   ]
  },
  {
   "cell_type": "code",
   "execution_count": 248,
   "metadata": {},
   "outputs": [],
   "source": [
    "from bs4 import BeautifulSoup as bs \n",
    "import requests\n",
    "import pandas as pd\n",
    "import re\n",
    "import numpy as np"
   ]
  },
  {
   "cell_type": "code",
   "execution_count": 3,
   "metadata": {},
   "outputs": [],
   "source": [
    "# scraping of the nb citations table"
   ]
  },
  {
   "cell_type": "code",
   "execution_count": 4,
   "metadata": {},
   "outputs": [],
   "source": [
    "url_nb_cit = 'https://ideas.repec.org/top/top.person.nbcites.html'\n",
    "\n",
    "r = requests.get(url_nb_cit)\n",
    "webpage = bs(r.content)"
   ]
  },
  {
   "cell_type": "code",
   "execution_count": 5,
   "metadata": {},
   "outputs": [],
   "source": [
    "table = webpage.select('table.shorttop')[0]"
   ]
  },
  {
   "cell_type": "code",
   "execution_count": 6,
   "metadata": {},
   "outputs": [],
   "source": [
    "#print(table.prettify())"
   ]
  },
  {
   "cell_type": "code",
   "execution_count": 7,
   "metadata": {},
   "outputs": [],
   "source": [
    "headers = table.select('thead th')"
   ]
  },
  {
   "cell_type": "code",
   "execution_count": 8,
   "metadata": {},
   "outputs": [],
   "source": [
    "col_names = [header.get_text() for header in headers]"
   ]
  },
  {
   "cell_type": "code",
   "execution_count": 9,
   "metadata": {},
   "outputs": [
    {
     "data": {
      "text/plain": [
       "['Rank', 'Author', 'Score']"
      ]
     },
     "execution_count": 9,
     "metadata": {},
     "output_type": "execute_result"
    }
   ],
   "source": [
    "col_names"
   ]
  },
  {
   "cell_type": "code",
   "execution_count": null,
   "metadata": {},
   "outputs": [],
   "source": []
  },
  {
   "cell_type": "code",
   "execution_count": 10,
   "metadata": {},
   "outputs": [],
   "source": [
    "t_rows = table.select('tr')[1:]"
   ]
  },
  {
   "cell_type": "code",
   "execution_count": 11,
   "metadata": {},
   "outputs": [],
   "source": [
    "l = []\n",
    "for tr in t_rows:\n",
    "    tds = tr.find_all('td')\n",
    "    row = [str(td.get_text()).strip() for td in tds]\n",
    "    l.append(row)"
   ]
  },
  {
   "cell_type": "code",
   "execution_count": 12,
   "metadata": {},
   "outputs": [],
   "source": [
    "df_nb_cit = pd.DataFrame(l, columns=col_names)"
   ]
  },
  {
   "cell_type": "code",
   "execution_count": 13,
   "metadata": {},
   "outputs": [
    {
     "data": {
      "text/html": [
       "<div>\n",
       "<style scoped>\n",
       "    .dataframe tbody tr th:only-of-type {\n",
       "        vertical-align: middle;\n",
       "    }\n",
       "\n",
       "    .dataframe tbody tr th {\n",
       "        vertical-align: top;\n",
       "    }\n",
       "\n",
       "    .dataframe thead th {\n",
       "        text-align: right;\n",
       "    }\n",
       "</style>\n",
       "<table border=\"1\" class=\"dataframe\">\n",
       "  <thead>\n",
       "    <tr style=\"text-align: right;\">\n",
       "      <th></th>\n",
       "      <th>Rank</th>\n",
       "      <th>Author</th>\n",
       "      <th>Score</th>\n",
       "    </tr>\n",
       "  </thead>\n",
       "  <tbody>\n",
       "    <tr>\n",
       "      <th>2939</th>\n",
       "      <td>2938</td>\n",
       "      <td>Ulrich  Schmidt Institut für Volkswirtschaftsl...</td>\n",
       "      <td>921</td>\n",
       "    </tr>\n",
       "    <tr>\n",
       "      <th>2940</th>\n",
       "      <td>2941</td>\n",
       "      <td>Peter  Orazem Department of Economics, Iowa St...</td>\n",
       "      <td>920</td>\n",
       "    </tr>\n",
       "    <tr>\n",
       "      <th>2941</th>\n",
       "      <td>2941</td>\n",
       "      <td>Vivian Zhanwei Yue Department of Economics, Em...</td>\n",
       "      <td>920</td>\n",
       "    </tr>\n",
       "    <tr>\n",
       "      <th>2942</th>\n",
       "      <td>2941</td>\n",
       "      <td>Augustin Kwasi Fosu Institute of Statistical, ...</td>\n",
       "      <td>920</td>\n",
       "    </tr>\n",
       "    <tr>\n",
       "      <th>2943</th>\n",
       "      <td>2941</td>\n",
       "      <td>Ali  Acaravci İktisadi ve İdari Bilimler Fakül...</td>\n",
       "      <td>920</td>\n",
       "    </tr>\n",
       "  </tbody>\n",
       "</table>\n",
       "</div>"
      ],
      "text/plain": [
       "      Rank                                             Author Score\n",
       "2939  2938  Ulrich  Schmidt Institut für Volkswirtschaftsl...   921\n",
       "2940  2941  Peter  Orazem Department of Economics, Iowa St...   920\n",
       "2941  2941  Vivian Zhanwei Yue Department of Economics, Em...   920\n",
       "2942  2941  Augustin Kwasi Fosu Institute of Statistical, ...   920\n",
       "2943  2941  Ali  Acaravci İktisadi ve İdari Bilimler Fakül...   920"
      ]
     },
     "execution_count": 13,
     "metadata": {},
     "output_type": "execute_result"
    }
   ],
   "source": [
    "df_nb_cit.tail()"
   ]
  },
  {
   "cell_type": "code",
   "execution_count": 14,
   "metadata": {},
   "outputs": [
    {
     "data": {
      "text/plain": [
       "'Ross  Levine National Bureau of Economic Research (NBER), Cambridge, Massachusetts (USA)'"
      ]
     },
     "execution_count": 14,
     "metadata": {},
     "output_type": "execute_result"
    }
   ],
   "source": [
    "df_nb_cit['Author'][10]"
   ]
  },
  {
   "cell_type": "code",
   "execution_count": 15,
   "metadata": {},
   "outputs": [],
   "source": [
    "# scraping of the full data table "
   ]
  },
  {
   "cell_type": "markdown",
   "metadata": {},
   "source": [
    "variables I am interested in :\n",
    "* **nbWorks**\n",
    "* **NbCities**\n",
    "* **NbPages** (Number of Journal Pages)\n",
    "* **Downloads** (Number of Downloads through RePEc serices over the past 12 months)\n",
    "* **Students** (Record of graduates)\n",
    "* **h index** (un h-index de 6 signifie que 6 publications de l’auteur ont chacune été citées au moins 6 fois.)"
   ]
  },
  {
   "cell_type": "code",
   "execution_count": 16,
   "metadata": {},
   "outputs": [],
   "source": [
    "# scraping the detailed data table seems complicated\n",
    "# TODO: better scrappe individual tables for each variables"
   ]
  },
  {
   "cell_type": "code",
   "execution_count": 17,
   "metadata": {},
   "outputs": [],
   "source": [
    "base_url = 'https://ideas.repec.org/top/'"
   ]
  },
  {
   "cell_type": "code",
   "execution_count": 18,
   "metadata": {},
   "outputs": [],
   "source": [
    "r_detail = requests.get('https://ideas.repec.org/top/top.person.alldetail.html')\n",
    "wp_detail = bs(r_detail.content)"
   ]
  },
  {
   "cell_type": "code",
   "execution_count": 24,
   "metadata": {},
   "outputs": [],
   "source": [
    "table_detail = wp_detail.select('table.newbigtop#right-table a')\n",
    "my_links = [detail['href'] for detail in table_detail]\n",
    "my_links = set(my_links)\n",
    "my_links\n",
    "#lists of the links i am only interested in\n",
    "my_wanted_links = ['top.person.downloads.html','top.person.nbworks.html','top.person.students.html',\n",
    "                'top.person.nbpages.html', 'top.person.hindex.html']\n",
    "#my_wanted_links = [link for link in my_links if link in links_wanted]\n",
    "#my_wanted_links"
   ]
  },
  {
   "cell_type": "code",
   "execution_count": 25,
   "metadata": {},
   "outputs": [],
   "source": [
    "table_titles = []\n",
    "table_rows = []\n",
    "for link in my_wanted_links:\n",
    "    bs_col_names = []\n",
    "    # getting bs element for each page\n",
    "    full_url = base_url + link\n",
    "    #print(full_url)\n",
    "    #break\n",
    "    page = requests.get(full_url)\n",
    "    bs_page = bs(page.content)\n",
    "    # capture the title of the table so we can rename correctly the columns of our dataframe\n",
    "    bs_title = bs_page.select('head title')[0].get_text()\n",
    "    table_titles.append(bs_title)\n",
    "    bs_table = bs_page.select('table.shorttop')[0]\n",
    "    bs_headers = bs_table.select('thead th')\n",
    "    bs_col_names = [bs_header.get_text() for bs_header in bs_headers]\n",
    "    bs_t_rows = bs_table.select(' tr')[1:]\n",
    "    y = []\n",
    "    for tr in bs_t_rows:\n",
    "        bs_tds = tr.find_all('td')\n",
    "        row =[str(td.get_text()).strip() for td in bs_tds]\n",
    "        y.append(row)\n",
    "    # i append each table scraped in a list to create the dataframes\n",
    "    table_rows.append(y)"
   ]
  },
  {
   "cell_type": "code",
   "execution_count": null,
   "metadata": {},
   "outputs": [],
   "source": []
  },
  {
   "cell_type": "code",
   "execution_count": 26,
   "metadata": {},
   "outputs": [
    {
     "name": "stdout",
     "output_type": "stream",
     "text": [
      "['1', 'Christopher F Baum Department of Economics, Boston College, Chestnut Hill, Massachusetts (USA)', '7515']\n",
      "5\n"
     ]
    }
   ],
   "source": [
    "# small verification\n",
    "print(table_rows[0][0])\n",
    "print(len(table_rows))"
   ]
  },
  {
   "cell_type": "code",
   "execution_count": 27,
   "metadata": {},
   "outputs": [],
   "source": [
    "bs_col_students = bs_col_names[:]\n",
    "bs_col_students.append('Students')\n",
    "\n",
    "df_nbpages = pd.DataFrame(table_rows[3], columns = bs_col_names)\n",
    "df_students = pd.DataFrame(table_rows[2], columns = bs_col_students)\n",
    "df_nbworks = pd.DataFrame(table_rows[1], columns = bs_col_names)\n",
    "df_downloads = pd.DataFrame(table_rows[0], columns = bs_col_names)\n",
    "df_hindex = pd.DataFrame(table_rows[4], columns = bs_col_names)"
   ]
  },
  {
   "cell_type": "code",
   "execution_count": 28,
   "metadata": {},
   "outputs": [
    {
     "data": {
      "text/html": [
       "<div>\n",
       "<style scoped>\n",
       "    .dataframe tbody tr th:only-of-type {\n",
       "        vertical-align: middle;\n",
       "    }\n",
       "\n",
       "    .dataframe tbody tr th {\n",
       "        vertical-align: top;\n",
       "    }\n",
       "\n",
       "    .dataframe thead th {\n",
       "        text-align: right;\n",
       "    }\n",
       "</style>\n",
       "<table border=\"1\" class=\"dataframe\">\n",
       "  <thead>\n",
       "    <tr style=\"text-align: right;\">\n",
       "      <th></th>\n",
       "      <th>Rank</th>\n",
       "      <th>Author</th>\n",
       "      <th>Score</th>\n",
       "      <th>Students</th>\n",
       "    </tr>\n",
       "  </thead>\n",
       "  <tbody>\n",
       "    <tr>\n",
       "      <th>0</th>\n",
       "      <td>1</td>\n",
       "      <td>Eric S. Maskin Department of Economics, Harvar...</td>\n",
       "      <td>4.38</td>\n",
       "      <td>45.5</td>\n",
       "    </tr>\n",
       "    <tr>\n",
       "      <th>1</th>\n",
       "      <td>2</td>\n",
       "      <td>Olivier J Blanchard Peter G. Peterson Institut...</td>\n",
       "      <td>5.76</td>\n",
       "      <td>35</td>\n",
       "    </tr>\n",
       "    <tr>\n",
       "      <th>2</th>\n",
       "      <td>3</td>\n",
       "      <td>Lawrence F. Katz Department of Economics, Harv...</td>\n",
       "      <td>6.42</td>\n",
       "      <td>43</td>\n",
       "    </tr>\n",
       "    <tr>\n",
       "      <th>3</th>\n",
       "      <td>4</td>\n",
       "      <td>Rudiger  Dornbusch †</td>\n",
       "      <td>7.4</td>\n",
       "      <td>15</td>\n",
       "    </tr>\n",
       "    <tr>\n",
       "      <th>4</th>\n",
       "      <td>5</td>\n",
       "      <td>Robert M. Solow Economics Department, Massachu...</td>\n",
       "      <td>8.61</td>\n",
       "      <td>11</td>\n",
       "    </tr>\n",
       "  </tbody>\n",
       "</table>\n",
       "</div>"
      ],
      "text/plain": [
       "  Rank                                             Author Score Students\n",
       "0    1  Eric S. Maskin Department of Economics, Harvar...  4.38     45.5\n",
       "1    2  Olivier J Blanchard Peter G. Peterson Institut...  5.76       35\n",
       "2    3  Lawrence F. Katz Department of Economics, Harv...  6.42       43\n",
       "3    4                               Rudiger  Dornbusch †   7.4       15\n",
       "4    5  Robert M. Solow Economics Department, Massachu...  8.61       11"
      ]
     },
     "execution_count": 28,
     "metadata": {},
     "output_type": "execute_result"
    }
   ],
   "source": [
    "df_students.head()"
   ]
  },
  {
   "cell_type": "code",
   "execution_count": 29,
   "metadata": {},
   "outputs": [
    {
     "data": {
      "text/html": [
       "<div>\n",
       "<style scoped>\n",
       "    .dataframe tbody tr th:only-of-type {\n",
       "        vertical-align: middle;\n",
       "    }\n",
       "\n",
       "    .dataframe tbody tr th {\n",
       "        vertical-align: top;\n",
       "    }\n",
       "\n",
       "    .dataframe thead th {\n",
       "        text-align: right;\n",
       "    }\n",
       "</style>\n",
       "<table border=\"1\" class=\"dataframe\">\n",
       "  <thead>\n",
       "    <tr style=\"text-align: right;\">\n",
       "      <th></th>\n",
       "      <th>Rank</th>\n",
       "      <th>Author</th>\n",
       "      <th>Score</th>\n",
       "    </tr>\n",
       "  </thead>\n",
       "  <tbody>\n",
       "    <tr>\n",
       "      <th>0</th>\n",
       "      <td>1</td>\n",
       "      <td>Peter  Nijkamp Afdeling Ruimtelijke Economie, ...</td>\n",
       "      <td>6967</td>\n",
       "    </tr>\n",
       "    <tr>\n",
       "      <th>1</th>\n",
       "      <td>2</td>\n",
       "      <td>Peter C. B. Phillips Cowles Foundation for Res...</td>\n",
       "      <td>6617</td>\n",
       "    </tr>\n",
       "    <tr>\n",
       "      <th>2</th>\n",
       "      <td>3</td>\n",
       "      <td>Hans-Werner  Sinn ifo Institut - Leibniz-Insti...</td>\n",
       "      <td>6365</td>\n",
       "    </tr>\n",
       "    <tr>\n",
       "      <th>3</th>\n",
       "      <td>4</td>\n",
       "      <td>Rangan  Gupta Department of Economics, Faculty...</td>\n",
       "      <td>6337</td>\n",
       "    </tr>\n",
       "    <tr>\n",
       "      <th>4</th>\n",
       "      <td>5</td>\n",
       "      <td>Mohsen  Bahmani-Oskooee Economics Department, ...</td>\n",
       "      <td>6142</td>\n",
       "    </tr>\n",
       "  </tbody>\n",
       "</table>\n",
       "</div>"
      ],
      "text/plain": [
       "  Rank                                             Author Score\n",
       "0    1  Peter  Nijkamp Afdeling Ruimtelijke Economie, ...  6967\n",
       "1    2  Peter C. B. Phillips Cowles Foundation for Res...  6617\n",
       "2    3  Hans-Werner  Sinn ifo Institut - Leibniz-Insti...  6365\n",
       "3    4  Rangan  Gupta Department of Economics, Faculty...  6337\n",
       "4    5  Mohsen  Bahmani-Oskooee Economics Department, ...  6142"
      ]
     },
     "execution_count": 29,
     "metadata": {},
     "output_type": "execute_result"
    }
   ],
   "source": [
    "df_nbpages.head()"
   ]
  },
  {
   "cell_type": "code",
   "execution_count": 30,
   "metadata": {},
   "outputs": [
    {
     "data": {
      "text/html": [
       "<div>\n",
       "<style scoped>\n",
       "    .dataframe tbody tr th:only-of-type {\n",
       "        vertical-align: middle;\n",
       "    }\n",
       "\n",
       "    .dataframe tbody tr th {\n",
       "        vertical-align: top;\n",
       "    }\n",
       "\n",
       "    .dataframe thead th {\n",
       "        text-align: right;\n",
       "    }\n",
       "</style>\n",
       "<table border=\"1\" class=\"dataframe\">\n",
       "  <thead>\n",
       "    <tr style=\"text-align: right;\">\n",
       "      <th></th>\n",
       "      <th>Rank</th>\n",
       "      <th>Author</th>\n",
       "      <th>Score</th>\n",
       "    </tr>\n",
       "  </thead>\n",
       "  <tbody>\n",
       "    <tr>\n",
       "      <th>0</th>\n",
       "      <td>1</td>\n",
       "      <td>Christopher F Baum Department of Economics, Bo...</td>\n",
       "      <td>7515</td>\n",
       "    </tr>\n",
       "    <tr>\n",
       "      <th>1</th>\n",
       "      <td>2</td>\n",
       "      <td>Jeffrey Marc Wooldridge Economics Department, ...</td>\n",
       "      <td>7462</td>\n",
       "    </tr>\n",
       "    <tr>\n",
       "      <th>2</th>\n",
       "      <td>3</td>\n",
       "      <td>Ben  Jann</td>\n",
       "      <td>6565</td>\n",
       "    </tr>\n",
       "    <tr>\n",
       "      <th>3</th>\n",
       "      <td>4</td>\n",
       "      <td>Daron  Acemoglu Economics Department, Massachu...</td>\n",
       "      <td>6537</td>\n",
       "    </tr>\n",
       "    <tr>\n",
       "      <th>4</th>\n",
       "      <td>5</td>\n",
       "      <td>Nicholas  Cox</td>\n",
       "      <td>6424</td>\n",
       "    </tr>\n",
       "  </tbody>\n",
       "</table>\n",
       "</div>"
      ],
      "text/plain": [
       "  Rank                                             Author Score\n",
       "0    1  Christopher F Baum Department of Economics, Bo...  7515\n",
       "1    2  Jeffrey Marc Wooldridge Economics Department, ...  7462\n",
       "2    3                                          Ben  Jann  6565\n",
       "3    4  Daron  Acemoglu Economics Department, Massachu...  6537\n",
       "4    5                                      Nicholas  Cox  6424"
      ]
     },
     "execution_count": 30,
     "metadata": {},
     "output_type": "execute_result"
    }
   ],
   "source": [
    "df_downloads.head()"
   ]
  },
  {
   "cell_type": "code",
   "execution_count": 31,
   "metadata": {},
   "outputs": [
    {
     "data": {
      "text/html": [
       "<div>\n",
       "<style scoped>\n",
       "    .dataframe tbody tr th:only-of-type {\n",
       "        vertical-align: middle;\n",
       "    }\n",
       "\n",
       "    .dataframe tbody tr th {\n",
       "        vertical-align: top;\n",
       "    }\n",
       "\n",
       "    .dataframe thead th {\n",
       "        text-align: right;\n",
       "    }\n",
       "</style>\n",
       "<table border=\"1\" class=\"dataframe\">\n",
       "  <thead>\n",
       "    <tr style=\"text-align: right;\">\n",
       "      <th></th>\n",
       "      <th>Rank</th>\n",
       "      <th>Author</th>\n",
       "      <th>Score</th>\n",
       "    </tr>\n",
       "  </thead>\n",
       "  <tbody>\n",
       "    <tr>\n",
       "      <th>3421</th>\n",
       "      <td>2906</td>\n",
       "      <td>Alessandro  Pavan Department of Economics, Nor...</td>\n",
       "      <td>14</td>\n",
       "    </tr>\n",
       "    <tr>\n",
       "      <th>3422</th>\n",
       "      <td>2906</td>\n",
       "      <td>Zheng  Liu Economic Research, Federal Reserve ...</td>\n",
       "      <td>14</td>\n",
       "    </tr>\n",
       "    <tr>\n",
       "      <th>3423</th>\n",
       "      <td>2906</td>\n",
       "      <td>Gerhard  Sorger Institut für Volkswirtschaftsl...</td>\n",
       "      <td>14</td>\n",
       "    </tr>\n",
       "    <tr>\n",
       "      <th>3424</th>\n",
       "      <td>2906</td>\n",
       "      <td>Tatsuyoshi  Saijo School of Economics and Mana...</td>\n",
       "      <td>14</td>\n",
       "    </tr>\n",
       "    <tr>\n",
       "      <th>3425</th>\n",
       "      <td>2906</td>\n",
       "      <td>Giordano  Mion Department of Economics, Sussex...</td>\n",
       "      <td>14</td>\n",
       "    </tr>\n",
       "  </tbody>\n",
       "</table>\n",
       "</div>"
      ],
      "text/plain": [
       "      Rank                                             Author Score\n",
       "3421  2906  Alessandro  Pavan Department of Economics, Nor...    14\n",
       "3422  2906  Zheng  Liu Economic Research, Federal Reserve ...    14\n",
       "3423  2906  Gerhard  Sorger Institut für Volkswirtschaftsl...    14\n",
       "3424  2906  Tatsuyoshi  Saijo School of Economics and Mana...    14\n",
       "3425  2906  Giordano  Mion Department of Economics, Sussex...    14"
      ]
     },
     "execution_count": 31,
     "metadata": {},
     "output_type": "execute_result"
    }
   ],
   "source": [
    "df_hindex.tail()"
   ]
  },
  {
   "cell_type": "code",
   "execution_count": 32,
   "metadata": {},
   "outputs": [],
   "source": [
    "# scraping of economists ranked by twitter followers"
   ]
  },
  {
   "cell_type": "code",
   "execution_count": 33,
   "metadata": {},
   "outputs": [],
   "source": [
    "url_twitter = 'https://ideas.repec.org/top/top.person.twitter.html'\n",
    "\n",
    "r_twitter = requests.get(url_twitter)\n",
    "wp_twitter = bs(r_twitter.content)"
   ]
  },
  {
   "cell_type": "code",
   "execution_count": 34,
   "metadata": {},
   "outputs": [],
   "source": [
    "table_twitter = wp_twitter.select('table.shorttop')[0]"
   ]
  },
  {
   "cell_type": "code",
   "execution_count": 35,
   "metadata": {},
   "outputs": [],
   "source": [
    "headers_twitter = table_twitter.select('thead th')\n",
    "\n",
    "tw_col_names = [header.get_text() for header in headers_twitter]"
   ]
  },
  {
   "cell_type": "code",
   "execution_count": 36,
   "metadata": {},
   "outputs": [],
   "source": [
    "tw_rows = table_twitter.select('tr')[1:]\n",
    "\n",
    "j = []\n",
    "for tr in tw_rows:\n",
    "    tds = tr.find_all('td')\n",
    "    row = [str(td.get_text()).strip() for td in tds]\n",
    "    j.append(row)"
   ]
  },
  {
   "cell_type": "code",
   "execution_count": 37,
   "metadata": {},
   "outputs": [],
   "source": [
    "df_twitter = pd.DataFrame(j, columns = tw_col_names)"
   ]
  },
  {
   "cell_type": "code",
   "execution_count": 38,
   "metadata": {},
   "outputs": [
    {
     "data": {
      "text/html": [
       "<div>\n",
       "<style scoped>\n",
       "    .dataframe tbody tr th:only-of-type {\n",
       "        vertical-align: middle;\n",
       "    }\n",
       "\n",
       "    .dataframe tbody tr th {\n",
       "        vertical-align: top;\n",
       "    }\n",
       "\n",
       "    .dataframe thead th {\n",
       "        text-align: right;\n",
       "    }\n",
       "</style>\n",
       "<table border=\"1\" class=\"dataframe\">\n",
       "  <thead>\n",
       "    <tr style=\"text-align: right;\">\n",
       "      <th></th>\n",
       "      <th>Rank</th>\n",
       "      <th>Author</th>\n",
       "      <th>Followers</th>\n",
       "    </tr>\n",
       "  </thead>\n",
       "  <tbody>\n",
       "    <tr>\n",
       "      <th>0</th>\n",
       "      <td>1.</td>\n",
       "      <td>Krugman, Paul R.</td>\n",
       "      <td>4624769</td>\n",
       "    </tr>\n",
       "    <tr>\n",
       "      <th>1</th>\n",
       "      <td>2.</td>\n",
       "      <td>Sala-i-Martin, Xavier</td>\n",
       "      <td>501086</td>\n",
       "    </tr>\n",
       "    <tr>\n",
       "      <th>2</th>\n",
       "      <td>3.</td>\n",
       "      <td>Stiglitz, Joseph E.</td>\n",
       "      <td>316413</td>\n",
       "    </tr>\n",
       "    <tr>\n",
       "      <th>3</th>\n",
       "      <td>4.</td>\n",
       "      <td>Gaviria, Alejandro</td>\n",
       "      <td>302906</td>\n",
       "    </tr>\n",
       "    <tr>\n",
       "      <th>4</th>\n",
       "      <td>5.</td>\n",
       "      <td>Roser, Max</td>\n",
       "      <td>209855</td>\n",
       "    </tr>\n",
       "    <tr>\n",
       "      <th>...</th>\n",
       "      <td>...</td>\n",
       "      <td>...</td>\n",
       "      <td>...</td>\n",
       "    </tr>\n",
       "    <tr>\n",
       "      <th>470</th>\n",
       "      <td>471.</td>\n",
       "      <td>Stephenson, Judy Z.</td>\n",
       "      <td>3192</td>\n",
       "    </tr>\n",
       "    <tr>\n",
       "      <th>471</th>\n",
       "      <td>472.</td>\n",
       "      <td>Doerner, William M.</td>\n",
       "      <td>3189</td>\n",
       "    </tr>\n",
       "    <tr>\n",
       "      <th>472</th>\n",
       "      <td>473.</td>\n",
       "      <td>Overman, Henry G.</td>\n",
       "      <td>3178</td>\n",
       "    </tr>\n",
       "    <tr>\n",
       "      <th>473</th>\n",
       "      <td>474.</td>\n",
       "      <td>Feigenbaum, James J.</td>\n",
       "      <td>3172</td>\n",
       "    </tr>\n",
       "    <tr>\n",
       "      <th>474</th>\n",
       "      <td>475.</td>\n",
       "      <td>Bessen, James</td>\n",
       "      <td>3170</td>\n",
       "    </tr>\n",
       "  </tbody>\n",
       "</table>\n",
       "<p>475 rows × 3 columns</p>\n",
       "</div>"
      ],
      "text/plain": [
       "     Rank                 Author Followers\n",
       "0      1.       Krugman, Paul R.   4624769\n",
       "1      2.  Sala-i-Martin, Xavier    501086\n",
       "2      3.    Stiglitz, Joseph E.    316413\n",
       "3      4.     Gaviria, Alejandro    302906\n",
       "4      5.             Roser, Max    209855\n",
       "..    ...                    ...       ...\n",
       "470  471.    Stephenson, Judy Z.      3192\n",
       "471  472.    Doerner, William M.      3189\n",
       "472  473.      Overman, Henry G.      3178\n",
       "473  474.   Feigenbaum, James J.      3172\n",
       "474  475.          Bessen, James      3170\n",
       "\n",
       "[475 rows x 3 columns]"
      ]
     },
     "execution_count": 38,
     "metadata": {},
     "output_type": "execute_result"
    }
   ],
   "source": [
    "df_twitter"
   ]
  },
  {
   "cell_type": "code",
   "execution_count": 39,
   "metadata": {},
   "outputs": [
    {
     "data": {
      "text/html": [
       "<div>\n",
       "<style scoped>\n",
       "    .dataframe tbody tr th:only-of-type {\n",
       "        vertical-align: middle;\n",
       "    }\n",
       "\n",
       "    .dataframe tbody tr th {\n",
       "        vertical-align: top;\n",
       "    }\n",
       "\n",
       "    .dataframe thead th {\n",
       "        text-align: right;\n",
       "    }\n",
       "</style>\n",
       "<table border=\"1\" class=\"dataframe\">\n",
       "  <thead>\n",
       "    <tr style=\"text-align: right;\">\n",
       "      <th></th>\n",
       "      <th>Rank</th>\n",
       "      <th>Author</th>\n",
       "      <th>Score</th>\n",
       "    </tr>\n",
       "  </thead>\n",
       "  <tbody>\n",
       "    <tr>\n",
       "      <th>31</th>\n",
       "      <td>32</td>\n",
       "      <td>Paul R. Krugman Woodrow Wilson School of Publi...</td>\n",
       "      <td>16124</td>\n",
       "    </tr>\n",
       "  </tbody>\n",
       "</table>\n",
       "</div>"
      ],
      "text/plain": [
       "   Rank                                             Author  Score\n",
       "31   32  Paul R. Krugman Woodrow Wilson School of Publi...  16124"
      ]
     },
     "execution_count": 39,
     "metadata": {},
     "output_type": "execute_result"
    }
   ],
   "source": [
    "krug = df_nb_cit[df_nb_cit.Author.str.contains('Krugman')]\n",
    "krug"
   ]
  },
  {
   "cell_type": "code",
   "execution_count": 40,
   "metadata": {},
   "outputs": [
    {
     "data": {
      "text/html": [
       "<div>\n",
       "<style scoped>\n",
       "    .dataframe tbody tr th:only-of-type {\n",
       "        vertical-align: middle;\n",
       "    }\n",
       "\n",
       "    .dataframe tbody tr th {\n",
       "        vertical-align: top;\n",
       "    }\n",
       "\n",
       "    .dataframe thead th {\n",
       "        text-align: right;\n",
       "    }\n",
       "</style>\n",
       "<table border=\"1\" class=\"dataframe\">\n",
       "  <thead>\n",
       "    <tr style=\"text-align: right;\">\n",
       "      <th></th>\n",
       "      <th>Rank</th>\n",
       "      <th>Author</th>\n",
       "      <th>Score</th>\n",
       "    </tr>\n",
       "  </thead>\n",
       "  <tbody>\n",
       "    <tr>\n",
       "      <th>0</th>\n",
       "      <td>1</td>\n",
       "      <td>Andrei  Shleifer Department of Economics, Harv...</td>\n",
       "      <td>48826</td>\n",
       "    </tr>\n",
       "    <tr>\n",
       "      <th>1</th>\n",
       "      <td>2</td>\n",
       "      <td>James J. Heckman Department of Economics, Univ...</td>\n",
       "      <td>34146</td>\n",
       "    </tr>\n",
       "    <tr>\n",
       "      <th>2</th>\n",
       "      <td>3</td>\n",
       "      <td>Robert J. Barro Department of Economics, Harva...</td>\n",
       "      <td>31421</td>\n",
       "    </tr>\n",
       "    <tr>\n",
       "      <th>3</th>\n",
       "      <td>4</td>\n",
       "      <td>Robert F. Engle IIIFinance Department, Stern S...</td>\n",
       "      <td>28370</td>\n",
       "    </tr>\n",
       "    <tr>\n",
       "      <th>4</th>\n",
       "      <td>5</td>\n",
       "      <td>Eugene F. Fama Sr.Booth School of Business, Un...</td>\n",
       "      <td>27760</td>\n",
       "    </tr>\n",
       "  </tbody>\n",
       "</table>\n",
       "</div>"
      ],
      "text/plain": [
       "  Rank                                             Author  Score\n",
       "0    1  Andrei  Shleifer Department of Economics, Harv...  48826\n",
       "1    2  James J. Heckman Department of Economics, Univ...  34146\n",
       "2    3  Robert J. Barro Department of Economics, Harva...  31421\n",
       "3    4  Robert F. Engle IIIFinance Department, Stern S...  28370\n",
       "4    5  Eugene F. Fama Sr.Booth School of Business, Un...  27760"
      ]
     },
     "execution_count": 40,
     "metadata": {},
     "output_type": "execute_result"
    }
   ],
   "source": [
    "df_nb_cit.head()"
   ]
  },
  {
   "cell_type": "code",
   "execution_count": 41,
   "metadata": {},
   "outputs": [
    {
     "data": {
      "text/html": [
       "<div>\n",
       "<style scoped>\n",
       "    .dataframe tbody tr th:only-of-type {\n",
       "        vertical-align: middle;\n",
       "    }\n",
       "\n",
       "    .dataframe tbody tr th {\n",
       "        vertical-align: top;\n",
       "    }\n",
       "\n",
       "    .dataframe thead th {\n",
       "        text-align: right;\n",
       "    }\n",
       "</style>\n",
       "<table border=\"1\" class=\"dataframe\">\n",
       "  <thead>\n",
       "    <tr style=\"text-align: right;\">\n",
       "      <th></th>\n",
       "      <th>Rank</th>\n",
       "      <th>Author</th>\n",
       "      <th>Followers</th>\n",
       "    </tr>\n",
       "  </thead>\n",
       "  <tbody>\n",
       "    <tr>\n",
       "      <th>115</th>\n",
       "      <td>116.</td>\n",
       "      <td>Heckman, James J.</td>\n",
       "      <td>21639</td>\n",
       "    </tr>\n",
       "  </tbody>\n",
       "</table>\n",
       "</div>"
      ],
      "text/plain": [
       "     Rank             Author Followers\n",
       "115  116.  Heckman, James J.     21639"
      ]
     },
     "execution_count": 41,
     "metadata": {},
     "output_type": "execute_result"
    }
   ],
   "source": [
    "# checking how to names are differently displayed in each data frame so we can then murge them\n",
    "heck = df_twitter[df_twitter.Author.str.contains('Heckman')]\n",
    "heck"
   ]
  },
  {
   "cell_type": "markdown",
   "metadata": {},
   "source": [
    "### Small recap of the data scrapped"
   ]
  },
  {
   "cell_type": "code",
   "execution_count": 42,
   "metadata": {},
   "outputs": [
    {
     "data": {
      "text/html": [
       "<div>\n",
       "<style scoped>\n",
       "    .dataframe tbody tr th:only-of-type {\n",
       "        vertical-align: middle;\n",
       "    }\n",
       "\n",
       "    .dataframe tbody tr th {\n",
       "        vertical-align: top;\n",
       "    }\n",
       "\n",
       "    .dataframe thead th {\n",
       "        text-align: right;\n",
       "    }\n",
       "</style>\n",
       "<table border=\"1\" class=\"dataframe\">\n",
       "  <thead>\n",
       "    <tr style=\"text-align: right;\">\n",
       "      <th></th>\n",
       "      <th>Rank</th>\n",
       "      <th>Author</th>\n",
       "      <th>Score</th>\n",
       "    </tr>\n",
       "  </thead>\n",
       "  <tbody>\n",
       "    <tr>\n",
       "      <th>0</th>\n",
       "      <td>1</td>\n",
       "      <td>Andrei  Shleifer Department of Economics, Harv...</td>\n",
       "      <td>48826</td>\n",
       "    </tr>\n",
       "    <tr>\n",
       "      <th>1</th>\n",
       "      <td>2</td>\n",
       "      <td>James J. Heckman Department of Economics, Univ...</td>\n",
       "      <td>34146</td>\n",
       "    </tr>\n",
       "    <tr>\n",
       "      <th>2</th>\n",
       "      <td>3</td>\n",
       "      <td>Robert J. Barro Department of Economics, Harva...</td>\n",
       "      <td>31421</td>\n",
       "    </tr>\n",
       "    <tr>\n",
       "      <th>3</th>\n",
       "      <td>4</td>\n",
       "      <td>Robert F. Engle IIIFinance Department, Stern S...</td>\n",
       "      <td>28370</td>\n",
       "    </tr>\n",
       "    <tr>\n",
       "      <th>4</th>\n",
       "      <td>5</td>\n",
       "      <td>Eugene F. Fama Sr.Booth School of Business, Un...</td>\n",
       "      <td>27760</td>\n",
       "    </tr>\n",
       "  </tbody>\n",
       "</table>\n",
       "</div>"
      ],
      "text/plain": [
       "  Rank                                             Author  Score\n",
       "0    1  Andrei  Shleifer Department of Economics, Harv...  48826\n",
       "1    2  James J. Heckman Department of Economics, Univ...  34146\n",
       "2    3  Robert J. Barro Department of Economics, Harva...  31421\n",
       "3    4  Robert F. Engle IIIFinance Department, Stern S...  28370\n",
       "4    5  Eugene F. Fama Sr.Booth School of Business, Un...  27760"
      ]
     },
     "execution_count": 42,
     "metadata": {},
     "output_type": "execute_result"
    }
   ],
   "source": [
    "df_nb_cit.head()"
   ]
  },
  {
   "cell_type": "code",
   "execution_count": 43,
   "metadata": {},
   "outputs": [
    {
     "data": {
      "text/html": [
       "<div>\n",
       "<style scoped>\n",
       "    .dataframe tbody tr th:only-of-type {\n",
       "        vertical-align: middle;\n",
       "    }\n",
       "\n",
       "    .dataframe tbody tr th {\n",
       "        vertical-align: top;\n",
       "    }\n",
       "\n",
       "    .dataframe thead th {\n",
       "        text-align: right;\n",
       "    }\n",
       "</style>\n",
       "<table border=\"1\" class=\"dataframe\">\n",
       "  <thead>\n",
       "    <tr style=\"text-align: right;\">\n",
       "      <th></th>\n",
       "      <th>Rank</th>\n",
       "      <th>Author</th>\n",
       "      <th>Followers</th>\n",
       "    </tr>\n",
       "  </thead>\n",
       "  <tbody>\n",
       "    <tr>\n",
       "      <th>0</th>\n",
       "      <td>1.</td>\n",
       "      <td>Krugman, Paul R.</td>\n",
       "      <td>4624769</td>\n",
       "    </tr>\n",
       "    <tr>\n",
       "      <th>1</th>\n",
       "      <td>2.</td>\n",
       "      <td>Sala-i-Martin, Xavier</td>\n",
       "      <td>501086</td>\n",
       "    </tr>\n",
       "    <tr>\n",
       "      <th>2</th>\n",
       "      <td>3.</td>\n",
       "      <td>Stiglitz, Joseph E.</td>\n",
       "      <td>316413</td>\n",
       "    </tr>\n",
       "    <tr>\n",
       "      <th>3</th>\n",
       "      <td>4.</td>\n",
       "      <td>Gaviria, Alejandro</td>\n",
       "      <td>302906</td>\n",
       "    </tr>\n",
       "    <tr>\n",
       "      <th>4</th>\n",
       "      <td>5.</td>\n",
       "      <td>Roser, Max</td>\n",
       "      <td>209855</td>\n",
       "    </tr>\n",
       "  </tbody>\n",
       "</table>\n",
       "</div>"
      ],
      "text/plain": [
       "  Rank                 Author Followers\n",
       "0   1.       Krugman, Paul R.   4624769\n",
       "1   2.  Sala-i-Martin, Xavier    501086\n",
       "2   3.    Stiglitz, Joseph E.    316413\n",
       "3   4.     Gaviria, Alejandro    302906\n",
       "4   5.             Roser, Max    209855"
      ]
     },
     "execution_count": 43,
     "metadata": {},
     "output_type": "execute_result"
    }
   ],
   "source": [
    "df_twitter.head()"
   ]
  },
  {
   "cell_type": "code",
   "execution_count": null,
   "metadata": {},
   "outputs": [],
   "source": []
  },
  {
   "cell_type": "code",
   "execution_count": 44,
   "metadata": {},
   "outputs": [],
   "source": [
    "# TODO: have a list of all the nobel prize winners so we can label our economists with the right category\n",
    "# make sure the name are spelled identically"
   ]
  },
  {
   "cell_type": "markdown",
   "metadata": {},
   "source": [
    "### Scraping a list of Nobel prize winners"
   ]
  },
  {
   "cell_type": "code",
   "execution_count": 45,
   "metadata": {},
   "outputs": [],
   "source": [
    "url_nobel = 'https://ideas.repec.org/nobel.html'\n",
    "page_nobel = requests.get(url_nobel)\n",
    "bs_page_nobel = bs(page_nobel.content)"
   ]
  },
  {
   "cell_type": "code",
   "execution_count": 46,
   "metadata": {},
   "outputs": [],
   "source": [
    "bs_nobel_winners = bs_page_nobel.select('div#content-block a')[4:]\n",
    "nobel_winners_raw = [econ.get_text() for econ in bs_nobel_winners]\n",
    "# get the '\\n' charachters out of the names\n",
    "nobel_winners = [x.replace('\\n',' ') for x in nobel_winners_raw]\n",
    "nobel_winners = [x.title() for x in nobel_winners]"
   ]
  },
  {
   "cell_type": "markdown",
   "metadata": {},
   "source": [
    "### Checking how many nobel prize winners in data"
   ]
  },
  {
   "cell_type": "markdown",
   "metadata": {},
   "source": [
    "* checking in the twitter data"
   ]
  },
  {
   "cell_type": "code",
   "execution_count": 47,
   "metadata": {},
   "outputs": [
    {
     "data": {
      "text/html": [
       "<div>\n",
       "<style scoped>\n",
       "    .dataframe tbody tr th:only-of-type {\n",
       "        vertical-align: middle;\n",
       "    }\n",
       "\n",
       "    .dataframe tbody tr th {\n",
       "        vertical-align: top;\n",
       "    }\n",
       "\n",
       "    .dataframe thead th {\n",
       "        text-align: right;\n",
       "    }\n",
       "</style>\n",
       "<table border=\"1\" class=\"dataframe\">\n",
       "  <thead>\n",
       "    <tr style=\"text-align: right;\">\n",
       "      <th></th>\n",
       "      <th>Rank</th>\n",
       "      <th>Author</th>\n",
       "      <th>Followers</th>\n",
       "    </tr>\n",
       "  </thead>\n",
       "  <tbody>\n",
       "    <tr>\n",
       "      <th>0</th>\n",
       "      <td>1.</td>\n",
       "      <td>Krugman, Paul R.</td>\n",
       "      <td>4624769</td>\n",
       "    </tr>\n",
       "    <tr>\n",
       "      <th>1</th>\n",
       "      <td>2.</td>\n",
       "      <td>Sala-i-Martin, Xavier</td>\n",
       "      <td>501086</td>\n",
       "    </tr>\n",
       "    <tr>\n",
       "      <th>2</th>\n",
       "      <td>3.</td>\n",
       "      <td>Stiglitz, Joseph E.</td>\n",
       "      <td>316413</td>\n",
       "    </tr>\n",
       "    <tr>\n",
       "      <th>3</th>\n",
       "      <td>4.</td>\n",
       "      <td>Gaviria, Alejandro</td>\n",
       "      <td>302906</td>\n",
       "    </tr>\n",
       "    <tr>\n",
       "      <th>4</th>\n",
       "      <td>5.</td>\n",
       "      <td>Roser, Max</td>\n",
       "      <td>209855</td>\n",
       "    </tr>\n",
       "  </tbody>\n",
       "</table>\n",
       "</div>"
      ],
      "text/plain": [
       "  Rank                 Author Followers\n",
       "0   1.       Krugman, Paul R.   4624769\n",
       "1   2.  Sala-i-Martin, Xavier    501086\n",
       "2   3.    Stiglitz, Joseph E.    316413\n",
       "3   4.     Gaviria, Alejandro    302906\n",
       "4   5.             Roser, Max    209855"
      ]
     },
     "execution_count": 47,
     "metadata": {},
     "output_type": "execute_result"
    }
   ],
   "source": [
    "df_twitter.head()"
   ]
  },
  {
   "cell_type": "code",
   "execution_count": 48,
   "metadata": {},
   "outputs": [
    {
     "data": {
      "text/plain": [
       "0"
      ]
     },
     "execution_count": 48,
     "metadata": {},
     "output_type": "execute_result"
    }
   ],
   "source": [
    "sum(df_twitter['Author'].isin(nobel_winners))\n",
    "# we need to remove the commas from the author names"
   ]
  },
  {
   "cell_type": "code",
   "execution_count": 49,
   "metadata": {},
   "outputs": [],
   "source": [
    "df_tw_test = df_twitter.copy()"
   ]
  },
  {
   "cell_type": "code",
   "execution_count": 50,
   "metadata": {},
   "outputs": [],
   "source": [
    "df_tw_test['Author'] = df_tw_test['Author'].str.replace(',', '')"
   ]
  },
  {
   "cell_type": "code",
   "execution_count": 51,
   "metadata": {},
   "outputs": [],
   "source": [
    "sum(df_tw_test['Author'].isin(nobel_winners))\n",
    "# need to put the first name in front in the twitter dataframe\n",
    "tw_author = list(df_tw_test['Author'].str.split(' ', 1))\n",
    "tw_author_reversed = [list(reversed(x)) for x in tw_author]\n",
    "tw_list_authors = [authors[0] +' ' + authors[1] for authors in tw_author_reversed]\n"
   ]
  },
  {
   "cell_type": "code",
   "execution_count": 52,
   "metadata": {},
   "outputs": [],
   "source": [
    "df_tw_test['Author'] = tw_list_authors"
   ]
  },
  {
   "cell_type": "code",
   "execution_count": 53,
   "metadata": {},
   "outputs": [
    {
     "data": {
      "text/plain": [
       "6"
      ]
     },
     "execution_count": 53,
     "metadata": {},
     "output_type": "execute_result"
    }
   ],
   "source": [
    "# finally we test how many of nobel prize winner we have in our twitter table\n",
    "sum(df_tw_test['Author'].isin(nobel_winners))\n",
    "# for the moment we only find 6 ones, but it is likely that we still have some name-unmatching\n"
   ]
  },
  {
   "cell_type": "code",
   "execution_count": 54,
   "metadata": {},
   "outputs": [],
   "source": [
    "nobel_winners_test = [x.replace('  ', ' ') for x in nobel_winners]"
   ]
  },
  {
   "cell_type": "code",
   "execution_count": 55,
   "metadata": {},
   "outputs": [],
   "source": [
    "recon_nobel_winners = list(set(nobel_winners_test).intersection(tw_list_authors))"
   ]
  },
  {
   "cell_type": "code",
   "execution_count": 56,
   "metadata": {},
   "outputs": [
    {
     "data": {
      "text/plain": [
       "['A. Michael Spence',\n",
       " 'Robert J. Shiller',\n",
       " 'Lars Peter Hansen',\n",
       " 'Joseph E. Stiglitz',\n",
       " 'Jean Tirole',\n",
       " 'James J. Heckman']"
      ]
     },
     "execution_count": 56,
     "metadata": {},
     "output_type": "execute_result"
    }
   ],
   "source": [
    "recon_nobel_winners # the nobel prize that are well recongnized\n",
    "# 6 seems to less to keep this variable ('twitter followers')"
   ]
  },
  {
   "cell_type": "code",
   "execution_count": 61,
   "metadata": {},
   "outputs": [
    {
     "name": "stdout",
     "output_type": "stream",
     "text": [
      "(3426, 3)\n",
      "(2954, 3)\n",
      "(2944, 3)\n",
      "(2958, 3)\n",
      "(2978, 3)\n",
      "(2944, 4)\n"
     ]
    }
   ],
   "source": [
    "print(df_hindex.shape)\n",
    "print(df_downloads.shape)\n",
    "print(df_nb_cit.shape)\n",
    "print(df_nbpages.shape)\n",
    "print(df_nbworks.shape)\n",
    "print(df_students.shape)\n",
    "# check number of nobel prize winners in df_nb_cit"
   ]
  },
  {
   "cell_type": "markdown",
   "metadata": {},
   "source": [
    "* checking number of nobel prize winners in my nb_cit data\n",
    "    * first step : clean the Author column of df_nb_cit"
   ]
  },
  {
   "cell_type": "code",
   "execution_count": 62,
   "metadata": {},
   "outputs": [
    {
     "data": {
      "text/plain": [
       "0       Andrei  Shleifer Department of Economics, Harv...\n",
       "1       James J. Heckman Department of Economics, Univ...\n",
       "2       Robert J. Barro Department of Economics, Harva...\n",
       "3       Robert F. Engle IIIFinance Department, Stern S...\n",
       "4       Eugene F. Fama Sr.Booth School of Business, Un...\n",
       "                              ...                        \n",
       "2939    Ulrich  Schmidt Institut für Volkswirtschaftsl...\n",
       "2940    Peter  Orazem Department of Economics, Iowa St...\n",
       "2941    Vivian Zhanwei Yue Department of Economics, Em...\n",
       "2942    Augustin Kwasi Fosu Institute of Statistical, ...\n",
       "2943    Ali  Acaravci İktisadi ve İdari Bilimler Fakül...\n",
       "Name: Author, Length: 2944, dtype: object"
      ]
     },
     "execution_count": 62,
     "metadata": {},
     "output_type": "execute_result"
    }
   ],
   "source": [
    "df_nb_cit['Author']"
   ]
  },
  {
   "cell_type": "code",
   "execution_count": 82,
   "metadata": {},
   "outputs": [],
   "source": [
    "df_nb_cit_cleaning = df_nb_cit.copy()"
   ]
  },
  {
   "cell_type": "code",
   "execution_count": 236,
   "metadata": {},
   "outputs": [
    {
     "name": "stdout",
     "output_type": "stream",
     "text": [
      "James J. Heckman Department of Economics, University of Chicago, Chicago, Illinois (USA)\n",
      "Jan Potters https://www.tilburguniversity.edu/research/economics-and-management/graduate-school, School of Economics and Management, Universiteit van Tilburg, Tilburg, Netherlands\n"
     ]
    }
   ],
   "source": [
    "print(df_nb_cit_cleaning['Author'].iloc[1])\n",
    "print(df_nb_cit_cleaning['Author'].iloc[1611])"
   ]
  },
  {
   "cell_type": "code",
   "execution_count": 85,
   "metadata": {},
   "outputs": [],
   "source": [
    "df_nb_cit_cleaning['Author'] = df_nb_cit_cleaning['Author'].apply(lambda x: x.replace('  ', ' '))\n",
    "df_nb_cit_cleaning['Author_clean'] = df_nb_cit_cleaning['Author'].apply(lambda x: x.split(' ',3)[0:3] if '.' in x else x.split(' ',2)[0:2])"
   ]
  },
  {
   "cell_type": "code",
   "execution_count": 93,
   "metadata": {},
   "outputs": [],
   "source": [
    "df_nb_cit_cleaning['Author_clean'] = df_nb_cit_cleaning['Author_clean'].apply(lambda x: ' '.join(x))"
   ]
  },
  {
   "cell_type": "code",
   "execution_count": 94,
   "metadata": {},
   "outputs": [
    {
     "data": {
      "text/html": [
       "<div>\n",
       "<style scoped>\n",
       "    .dataframe tbody tr th:only-of-type {\n",
       "        vertical-align: middle;\n",
       "    }\n",
       "\n",
       "    .dataframe tbody tr th {\n",
       "        vertical-align: top;\n",
       "    }\n",
       "\n",
       "    .dataframe thead th {\n",
       "        text-align: right;\n",
       "    }\n",
       "</style>\n",
       "<table border=\"1\" class=\"dataframe\">\n",
       "  <thead>\n",
       "    <tr style=\"text-align: right;\">\n",
       "      <th></th>\n",
       "      <th>Rank</th>\n",
       "      <th>Author</th>\n",
       "      <th>Score</th>\n",
       "      <th>Author_clean</th>\n",
       "    </tr>\n",
       "  </thead>\n",
       "  <tbody>\n",
       "    <tr>\n",
       "      <th>0</th>\n",
       "      <td>1</td>\n",
       "      <td>Andrei Shleifer Department of Economics, Harva...</td>\n",
       "      <td>48826</td>\n",
       "      <td>Andrei Shleifer</td>\n",
       "    </tr>\n",
       "    <tr>\n",
       "      <th>1</th>\n",
       "      <td>2</td>\n",
       "      <td>James J. Heckman Department of Economics, Univ...</td>\n",
       "      <td>34146</td>\n",
       "      <td>James J. Heckman</td>\n",
       "    </tr>\n",
       "    <tr>\n",
       "      <th>2</th>\n",
       "      <td>3</td>\n",
       "      <td>Robert J. Barro Department of Economics, Harva...</td>\n",
       "      <td>31421</td>\n",
       "      <td>Robert J. Barro</td>\n",
       "    </tr>\n",
       "    <tr>\n",
       "      <th>3</th>\n",
       "      <td>4</td>\n",
       "      <td>Robert F. Engle IIIFinance Department, Stern S...</td>\n",
       "      <td>28370</td>\n",
       "      <td>Robert F. Engle</td>\n",
       "    </tr>\n",
       "    <tr>\n",
       "      <th>4</th>\n",
       "      <td>5</td>\n",
       "      <td>Eugene F. Fama Sr.Booth School of Business, Un...</td>\n",
       "      <td>27760</td>\n",
       "      <td>Eugene F. Fama</td>\n",
       "    </tr>\n",
       "    <tr>\n",
       "      <th>...</th>\n",
       "      <td>...</td>\n",
       "      <td>...</td>\n",
       "      <td>...</td>\n",
       "      <td>...</td>\n",
       "    </tr>\n",
       "    <tr>\n",
       "      <th>2939</th>\n",
       "      <td>2938</td>\n",
       "      <td>Ulrich Schmidt Institut für Volkswirtschaftsle...</td>\n",
       "      <td>921</td>\n",
       "      <td>Ulrich Schmidt</td>\n",
       "    </tr>\n",
       "    <tr>\n",
       "      <th>2940</th>\n",
       "      <td>2941</td>\n",
       "      <td>Peter Orazem Department of Economics, Iowa Sta...</td>\n",
       "      <td>920</td>\n",
       "      <td>Peter Orazem</td>\n",
       "    </tr>\n",
       "    <tr>\n",
       "      <th>2941</th>\n",
       "      <td>2941</td>\n",
       "      <td>Vivian Zhanwei Yue Department of Economics, Em...</td>\n",
       "      <td>920</td>\n",
       "      <td>Vivian Zhanwei</td>\n",
       "    </tr>\n",
       "    <tr>\n",
       "      <th>2942</th>\n",
       "      <td>2941</td>\n",
       "      <td>Augustin Kwasi Fosu Institute of Statistical, ...</td>\n",
       "      <td>920</td>\n",
       "      <td>Augustin Kwasi</td>\n",
       "    </tr>\n",
       "    <tr>\n",
       "      <th>2943</th>\n",
       "      <td>2941</td>\n",
       "      <td>Ali Acaravci İktisadi ve İdari Bilimler Fakült...</td>\n",
       "      <td>920</td>\n",
       "      <td>Ali Acaravci</td>\n",
       "    </tr>\n",
       "  </tbody>\n",
       "</table>\n",
       "<p>2944 rows × 4 columns</p>\n",
       "</div>"
      ],
      "text/plain": [
       "      Rank                                             Author  Score  \\\n",
       "0        1  Andrei Shleifer Department of Economics, Harva...  48826   \n",
       "1        2  James J. Heckman Department of Economics, Univ...  34146   \n",
       "2        3  Robert J. Barro Department of Economics, Harva...  31421   \n",
       "3        4  Robert F. Engle IIIFinance Department, Stern S...  28370   \n",
       "4        5  Eugene F. Fama Sr.Booth School of Business, Un...  27760   \n",
       "...    ...                                                ...    ...   \n",
       "2939  2938  Ulrich Schmidt Institut für Volkswirtschaftsle...    921   \n",
       "2940  2941  Peter Orazem Department of Economics, Iowa Sta...    920   \n",
       "2941  2941  Vivian Zhanwei Yue Department of Economics, Em...    920   \n",
       "2942  2941  Augustin Kwasi Fosu Institute of Statistical, ...    920   \n",
       "2943  2941  Ali Acaravci İktisadi ve İdari Bilimler Fakült...    920   \n",
       "\n",
       "          Author_clean  \n",
       "0      Andrei Shleifer  \n",
       "1     James J. Heckman  \n",
       "2      Robert J. Barro  \n",
       "3      Robert F. Engle  \n",
       "4       Eugene F. Fama  \n",
       "...                ...  \n",
       "2939    Ulrich Schmidt  \n",
       "2940      Peter Orazem  \n",
       "2941    Vivian Zhanwei  \n",
       "2942    Augustin Kwasi  \n",
       "2943      Ali Acaravci  \n",
       "\n",
       "[2944 rows x 4 columns]"
      ]
     },
     "execution_count": 94,
     "metadata": {},
     "output_type": "execute_result"
    }
   ],
   "source": [
    "df_nb_cit_cleaning"
   ]
  },
  {
   "cell_type": "markdown",
   "metadata": {},
   "source": [
    "   * checking how many nobel prize winners are in df_nb_cit"
   ]
  },
  {
   "cell_type": "code",
   "execution_count": 95,
   "metadata": {},
   "outputs": [
    {
     "data": {
      "text/plain": [
       "46"
      ]
     },
     "execution_count": 95,
     "metadata": {},
     "output_type": "execute_result"
    }
   ],
   "source": [
    "sum(df_nb_cit_cleaning['Author_clean'].isin(nobel_winners))"
   ]
  },
  {
   "cell_type": "code",
   "execution_count": 96,
   "metadata": {},
   "outputs": [
    {
     "data": {
      "text/html": [
       "<div>\n",
       "<style scoped>\n",
       "    .dataframe tbody tr th:only-of-type {\n",
       "        vertical-align: middle;\n",
       "    }\n",
       "\n",
       "    .dataframe tbody tr th {\n",
       "        vertical-align: top;\n",
       "    }\n",
       "\n",
       "    .dataframe thead th {\n",
       "        text-align: right;\n",
       "    }\n",
       "</style>\n",
       "<table border=\"1\" class=\"dataframe\">\n",
       "  <thead>\n",
       "    <tr style=\"text-align: right;\">\n",
       "      <th></th>\n",
       "      <th>Rank</th>\n",
       "      <th>Author</th>\n",
       "      <th>Score</th>\n",
       "      <th>Author_clean</th>\n",
       "    </tr>\n",
       "  </thead>\n",
       "  <tbody>\n",
       "    <tr>\n",
       "      <th>31</th>\n",
       "      <td>32</td>\n",
       "      <td>Paul R. Krugman Woodrow Wilson School of Publi...</td>\n",
       "      <td>16124</td>\n",
       "      <td>Paul R. Krugman</td>\n",
       "    </tr>\n",
       "  </tbody>\n",
       "</table>\n",
       "</div>"
      ],
      "text/plain": [
       "   Rank                                             Author  Score  \\\n",
       "31   32  Paul R. Krugman Woodrow Wilson School of Publi...  16124   \n",
       "\n",
       "       Author_clean  \n",
       "31  Paul R. Krugman  "
      ]
     },
     "execution_count": 96,
     "metadata": {},
     "output_type": "execute_result"
    }
   ],
   "source": [
    "df_nb_cit_cleaning[df_nb_cit_cleaning['Author_clean'] == 'Paul R. Krugman']"
   ]
  },
  {
   "cell_type": "code",
   "execution_count": 97,
   "metadata": {},
   "outputs": [
    {
     "data": {
      "text/plain": [
       "22"
      ]
     },
     "execution_count": 97,
     "metadata": {},
     "output_type": "execute_result"
    }
   ],
   "source": [
    "# correct Krugman's name in the nobel_winners list\n",
    "nobel_winners.index('Paul Krugman')"
   ]
  },
  {
   "cell_type": "code",
   "execution_count": 145,
   "metadata": {},
   "outputs": [],
   "source": [
    "nobel_winners_test[22] = 'Paul R. Krugman'"
   ]
  },
  {
   "cell_type": "code",
   "execution_count": 149,
   "metadata": {},
   "outputs": [
    {
     "data": {
      "text/plain": [
       "49"
      ]
     },
     "execution_count": 149,
     "metadata": {},
     "output_type": "execute_result"
    }
   ],
   "source": [
    "sum(df_nb_cit_cleaning['Author_clean'].isin(nobel_winners_test))"
   ]
  },
  {
   "cell_type": "code",
   "execution_count": 150,
   "metadata": {},
   "outputs": [],
   "source": [
    "nb_cit_recon_nobel_winners = list(set(nobel_winners_test).intersection(df_nb_cit_cleaning['Author_clean'][:2000]))"
   ]
  },
  {
   "cell_type": "code",
   "execution_count": 151,
   "metadata": {},
   "outputs": [
    {
     "data": {
      "text/plain": [
       "48"
      ]
     },
     "execution_count": 151,
     "metadata": {},
     "output_type": "execute_result"
    }
   ],
   "source": [
    "len(nb_cit_recon_nobel_winners)"
   ]
  },
  {
   "cell_type": "code",
   "execution_count": 141,
   "metadata": {},
   "outputs": [],
   "source": [
    "# there is 48 out of 49 nobel prize winners placed in top 2000 economists"
   ]
  },
  {
   "cell_type": "code",
   "execution_count": 143,
   "metadata": {},
   "outputs": [],
   "source": [
    "# TODO: get the list of John Bates Clark Medal's winners + John Voneumann's Award winners"
   ]
  },
  {
   "cell_type": "markdown",
   "metadata": {},
   "source": [
    "#### web scraping of John Bates Clark Medal's winners"
   ]
  },
  {
   "cell_type": "code",
   "execution_count": 152,
   "metadata": {},
   "outputs": [],
   "source": [
    "url_clark = 'https://en.wikipedia.org/wiki/John_Bates_Clark_Medal'\n",
    "page_clark = requests.get(url_clark)\n",
    "bs_p_clark = bs(page_clark.content)"
   ]
  },
  {
   "cell_type": "code",
   "execution_count": 153,
   "metadata": {},
   "outputs": [],
   "source": [
    "table_clark = bs_p_clark.select('table')[0]"
   ]
  },
  {
   "cell_type": "code",
   "execution_count": 176,
   "metadata": {},
   "outputs": [
    {
     "data": {
      "text/plain": [
       "['Year',\n",
       " 'Medalists',\n",
       " 'Institution (at time of receipt)',\n",
       " 'Alma mater (PhD)',\n",
       " 'Nationality',\n",
       " 'Nobel Prize']"
      ]
     },
     "execution_count": 176,
     "metadata": {},
     "output_type": "execute_result"
    }
   ],
   "source": [
    "header_clark = table_clark.select('th')#[0].get_text().replace('[1]\\n', '')\n",
    "header_clark = [h.get_text().replace('[1]\\n', '').replace('\\n', '') for h in header_clark]\n",
    "header_clark"
   ]
  },
  {
   "cell_type": "code",
   "execution_count": 178,
   "metadata": {},
   "outputs": [],
   "source": [
    "tw_rows = table_clark.select('tr')[1:]\n",
    "\n",
    "w = []\n",
    "for tr in tw_rows:\n",
    "    tds = tr.find_all('td')\n",
    "    row = [str(td.get_text()).strip() for td in tds]\n",
    "    w.append(row)"
   ]
  },
  {
   "cell_type": "code",
   "execution_count": 180,
   "metadata": {},
   "outputs": [],
   "source": [
    "df_clark = pd.DataFrame(w, columns=header_clark)"
   ]
  },
  {
   "cell_type": "code",
   "execution_count": 187,
   "metadata": {},
   "outputs": [],
   "source": [
    "# rectify the name of James J. Heckman so it matches when we will concatenate our dataframes\n",
    "df_clark['Medalists'][df_clark['Medalists'] == 'James Heckman'] = 'James J. Heckman'"
   ]
  },
  {
   "cell_type": "code",
   "execution_count": 188,
   "metadata": {},
   "outputs": [
    {
     "data": {
      "text/html": [
       "<div>\n",
       "<style scoped>\n",
       "    .dataframe tbody tr th:only-of-type {\n",
       "        vertical-align: middle;\n",
       "    }\n",
       "\n",
       "    .dataframe tbody tr th {\n",
       "        vertical-align: top;\n",
       "    }\n",
       "\n",
       "    .dataframe thead th {\n",
       "        text-align: right;\n",
       "    }\n",
       "</style>\n",
       "<table border=\"1\" class=\"dataframe\">\n",
       "  <thead>\n",
       "    <tr style=\"text-align: right;\">\n",
       "      <th></th>\n",
       "      <th>Year</th>\n",
       "      <th>Medalists</th>\n",
       "      <th>Institution (at time of receipt)</th>\n",
       "      <th>Alma mater (PhD)</th>\n",
       "      <th>Nationality</th>\n",
       "      <th>Nobel Prize</th>\n",
       "    </tr>\n",
       "  </thead>\n",
       "  <tbody>\n",
       "    <tr>\n",
       "      <th>0</th>\n",
       "      <td>1947</td>\n",
       "      <td>Paul Samuelson</td>\n",
       "      <td>Massachusetts Institute of Technology</td>\n",
       "      <td>Harvard University</td>\n",
       "      <td>United States</td>\n",
       "      <td>1970</td>\n",
       "    </tr>\n",
       "    <tr>\n",
       "      <th>1</th>\n",
       "      <td>1949</td>\n",
       "      <td>Kenneth E. Boulding</td>\n",
       "      <td>University of Michigan</td>\n",
       "      <td>University of Oxford</td>\n",
       "      <td>United States</td>\n",
       "      <td></td>\n",
       "    </tr>\n",
       "    <tr>\n",
       "      <th>2</th>\n",
       "      <td>1951</td>\n",
       "      <td>Milton Friedman</td>\n",
       "      <td>University of Chicago</td>\n",
       "      <td>Columbia University</td>\n",
       "      <td>United States</td>\n",
       "      <td>1976</td>\n",
       "    </tr>\n",
       "    <tr>\n",
       "      <th>3</th>\n",
       "      <td>1955</td>\n",
       "      <td>James Tobin</td>\n",
       "      <td>Yale University</td>\n",
       "      <td>Harvard University</td>\n",
       "      <td>United States</td>\n",
       "      <td>1981</td>\n",
       "    </tr>\n",
       "    <tr>\n",
       "      <th>4</th>\n",
       "      <td>1957</td>\n",
       "      <td>Kenneth Arrow</td>\n",
       "      <td>Stanford University</td>\n",
       "      <td>Columbia University</td>\n",
       "      <td>United States</td>\n",
       "      <td>1972</td>\n",
       "    </tr>\n",
       "  </tbody>\n",
       "</table>\n",
       "</div>"
      ],
      "text/plain": [
       "   Year            Medalists       Institution (at time of receipt)  \\\n",
       "0  1947       Paul Samuelson  Massachusetts Institute of Technology   \n",
       "1  1949  Kenneth E. Boulding                 University of Michigan   \n",
       "2  1951      Milton Friedman                  University of Chicago   \n",
       "3  1955          James Tobin                        Yale University   \n",
       "4  1957        Kenneth Arrow                    Stanford University   \n",
       "\n",
       "       Alma mater (PhD)    Nationality Nobel Prize  \n",
       "0    Harvard University  United States        1970  \n",
       "1  University of Oxford  United States              \n",
       "2   Columbia University  United States        1976  \n",
       "3    Harvard University  United States        1981  \n",
       "4   Columbia University  United States        1972  "
      ]
     },
     "execution_count": 188,
     "metadata": {},
     "output_type": "execute_result"
    }
   ],
   "source": [
    "df_clark.head()"
   ]
  },
  {
   "cell_type": "markdown",
   "metadata": {},
   "source": [
    "#### web scraping of Jon von Neumann Award winners"
   ]
  },
  {
   "cell_type": "code",
   "execution_count": 190,
   "metadata": {},
   "outputs": [],
   "source": [
    "url_vn = 'https://en.wikipedia.org/wiki/John_von_Neumann_Award'\n",
    "page_vn = requests.get(url_vn)\n",
    "bs_vn = bs(page_vn.content)"
   ]
  },
  {
   "cell_type": "code",
   "execution_count": 209,
   "metadata": {},
   "outputs": [],
   "source": [
    "table_vn = bs_vn.find_all('table')[2]"
   ]
  },
  {
   "cell_type": "code",
   "execution_count": 218,
   "metadata": {},
   "outputs": [
    {
     "data": {
      "text/plain": [
       "['Year', 'Recipient', 'Institution', 'Nationality']"
      ]
     },
     "execution_count": 218,
     "metadata": {},
     "output_type": "execute_result"
    }
   ],
   "source": [
    "header_vn = table_vn.select('th')\n",
    "header_vn = [h.get_text().replace('\\n', '') for h in header_vn]\n",
    "header_vn"
   ]
  },
  {
   "cell_type": "code",
   "execution_count": 224,
   "metadata": {},
   "outputs": [],
   "source": [
    "t_vn_rw = table_vn.select('tr')[1:]\n",
    "b = []\n",
    "for tr in t_vn_rw:\n",
    "    tds = tr.find_all('td')\n",
    "    row = [str(td.get_text()).strip() for td in tds]\n",
    "    b.append(row)"
   ]
  },
  {
   "cell_type": "code",
   "execution_count": 226,
   "metadata": {},
   "outputs": [],
   "source": [
    "df_vn = pd.DataFrame(b, columns=header_vn)"
   ]
  },
  {
   "cell_type": "code",
   "execution_count": 227,
   "metadata": {},
   "outputs": [
    {
     "data": {
      "text/html": [
       "<div>\n",
       "<style scoped>\n",
       "    .dataframe tbody tr th:only-of-type {\n",
       "        vertical-align: middle;\n",
       "    }\n",
       "\n",
       "    .dataframe tbody tr th {\n",
       "        vertical-align: top;\n",
       "    }\n",
       "\n",
       "    .dataframe thead th {\n",
       "        text-align: right;\n",
       "    }\n",
       "</style>\n",
       "<table border=\"1\" class=\"dataframe\">\n",
       "  <thead>\n",
       "    <tr style=\"text-align: right;\">\n",
       "      <th></th>\n",
       "      <th>Year</th>\n",
       "      <th>Recipient</th>\n",
       "      <th>Institution</th>\n",
       "      <th>Nationality</th>\n",
       "    </tr>\n",
       "  </thead>\n",
       "  <tbody>\n",
       "    <tr>\n",
       "      <th>0</th>\n",
       "      <td>1995</td>\n",
       "      <td>John Harsanyi</td>\n",
       "      <td>UC Berkeley</td>\n",
       "      <td>United States</td>\n",
       "    </tr>\n",
       "    <tr>\n",
       "      <th>1</th>\n",
       "      <td>1996</td>\n",
       "      <td>Hal Varian</td>\n",
       "      <td>University of Michigan</td>\n",
       "      <td>United States</td>\n",
       "    </tr>\n",
       "    <tr>\n",
       "      <th>2</th>\n",
       "      <td>1997</td>\n",
       "      <td>János Kornai</td>\n",
       "      <td>Harvard University; Collegium Budapest</td>\n",
       "      <td>Hungary</td>\n",
       "    </tr>\n",
       "    <tr>\n",
       "      <th>3</th>\n",
       "      <td>1998</td>\n",
       "      <td>Jean Tirole</td>\n",
       "      <td>Toulouse School of Economics</td>\n",
       "      <td>France</td>\n",
       "    </tr>\n",
       "    <tr>\n",
       "      <th>4</th>\n",
       "      <td>1999</td>\n",
       "      <td>Oliver E. Williamson [1]</td>\n",
       "      <td>UC Berkeley</td>\n",
       "      <td>United States</td>\n",
       "    </tr>\n",
       "  </tbody>\n",
       "</table>\n",
       "</div>"
      ],
      "text/plain": [
       "   Year                 Recipient                             Institution  \\\n",
       "0  1995             John Harsanyi                             UC Berkeley   \n",
       "1  1996                Hal Varian                  University of Michigan   \n",
       "2  1997              János Kornai  Harvard University; Collegium Budapest   \n",
       "3  1998               Jean Tirole            Toulouse School of Economics   \n",
       "4  1999  Oliver E. Williamson [1]                             UC Berkeley   \n",
       "\n",
       "     Nationality  \n",
       "0  United States  \n",
       "1  United States  \n",
       "2        Hungary  \n",
       "3         France  \n",
       "4  United States  "
      ]
     },
     "execution_count": 227,
     "metadata": {},
     "output_type": "execute_result"
    }
   ],
   "source": [
    "df_vn.head()"
   ]
  },
  {
   "cell_type": "markdown",
   "metadata": {},
   "source": [
    "End point: I've scraped all the data I needed. I am not going the keep the 'twitter-follower' variable (since it captures to few nobel prize winners) but I intend to keep all the other variables. That is to say:\n",
    "* nb_citations\n",
    "* nb_work\n",
    "* nb_pages\n",
    "* nb_downloads\n",
    "* nb_students\n",
    "* h_index\n",
    "* ivy_league_yn\n",
    "* american_yn\n",
    "* von_neumann_yn\n",
    "* clark_medal_yn\n",
    "* nobel_winner_yn"
   ]
  },
  {
   "cell_type": "markdown",
   "metadata": {},
   "source": [
    "#### download in csv files of the data scrapped"
   ]
  },
  {
   "cell_type": "code",
   "execution_count": 240,
   "metadata": {},
   "outputs": [],
   "source": [
    "# saving nb_cit data\n",
    "df_nb_cit_cleaning.to_csv('data/nb_cit_cleaning.csv', index=False)"
   ]
  },
  {
   "cell_type": "code",
   "execution_count": 239,
   "metadata": {},
   "outputs": [],
   "source": [
    "# saving nb_work\n",
    "df_nbworks.to_csv('data/nb_works.csv', index=False)"
   ]
  },
  {
   "cell_type": "code",
   "execution_count": 241,
   "metadata": {},
   "outputs": [],
   "source": [
    "# saving nb_pages \n",
    "df_nbpages.to_csv('data/nb_pages.csv', index=False)"
   ]
  },
  {
   "cell_type": "code",
   "execution_count": 245,
   "metadata": {},
   "outputs": [],
   "source": [
    "# saving nb_downloads, nb_students, h_index, von_neumann, clark_medal\n",
    "my_dfs = [df_downloads, df_students, df_hindex, df_vn, df_clark]\n",
    "file_names = ['nb_downloads', 'nb_students', 'h_index', 'von_neumann', 'clark_medal']\n",
    "for df, file in zip(my_dfs, file_names):\n",
    "    df.to_csv('data/' + file + '.csv', index= False)\n",
    "    \n"
   ]
  },
  {
   "cell_type": "code",
   "execution_count": 257,
   "metadata": {},
   "outputs": [],
   "source": [
    "# creation of a dataframe containing all the nobel_prize winners & saving it\n",
    "series_nobel_winners = pd.Series(nobel_winners_test)"
   ]
  },
  {
   "cell_type": "code",
   "execution_count": 258,
   "metadata": {},
   "outputs": [],
   "source": [
    "df_nobel_winners = series_nobel_winners.to_frame()"
   ]
  },
  {
   "cell_type": "code",
   "execution_count": 259,
   "metadata": {},
   "outputs": [],
   "source": [
    "df_nobel_winners.columns = ['Author']"
   ]
  },
  {
   "cell_type": "code",
   "execution_count": 260,
   "metadata": {},
   "outputs": [
    {
     "data": {
      "text/html": [
       "<div>\n",
       "<style scoped>\n",
       "    .dataframe tbody tr th:only-of-type {\n",
       "        vertical-align: middle;\n",
       "    }\n",
       "\n",
       "    .dataframe tbody tr th {\n",
       "        vertical-align: top;\n",
       "    }\n",
       "\n",
       "    .dataframe thead th {\n",
       "        text-align: right;\n",
       "    }\n",
       "</style>\n",
       "<table border=\"1\" class=\"dataframe\">\n",
       "  <thead>\n",
       "    <tr style=\"text-align: right;\">\n",
       "      <th></th>\n",
       "      <th>Author</th>\n",
       "    </tr>\n",
       "  </thead>\n",
       "  <tbody>\n",
       "    <tr>\n",
       "      <th>0</th>\n",
       "      <td>Abhijit Banerjee</td>\n",
       "    </tr>\n",
       "    <tr>\n",
       "      <th>1</th>\n",
       "      <td>Esther Duflo</td>\n",
       "    </tr>\n",
       "    <tr>\n",
       "      <th>2</th>\n",
       "      <td>Michael Kremer</td>\n",
       "    </tr>\n",
       "    <tr>\n",
       "      <th>3</th>\n",
       "      <td>William Nordhaus</td>\n",
       "    </tr>\n",
       "    <tr>\n",
       "      <th>4</th>\n",
       "      <td>Paul Romer</td>\n",
       "    </tr>\n",
       "  </tbody>\n",
       "</table>\n",
       "</div>"
      ],
      "text/plain": [
       "             Author\n",
       "0  Abhijit Banerjee\n",
       "1      Esther Duflo\n",
       "2    Michael Kremer\n",
       "3  William Nordhaus\n",
       "4        Paul Romer"
      ]
     },
     "execution_count": 260,
     "metadata": {},
     "output_type": "execute_result"
    }
   ],
   "source": [
    "df_nobel_winners.head()"
   ]
  },
  {
   "cell_type": "code",
   "execution_count": 262,
   "metadata": {},
   "outputs": [],
   "source": [
    " df_nobel_winners.to_csv('data/nobel_prize_winners.csv', index=False)"
   ]
  },
  {
   "cell_type": "code",
   "execution_count": null,
   "metadata": {},
   "outputs": [],
   "source": []
  }
 ],
 "metadata": {
  "kernelspec": {
   "display_name": "Python 3",
   "language": "python",
   "name": "python3"
  },
  "language_info": {
   "codemirror_mode": {
    "name": "ipython",
    "version": 3
   },
   "file_extension": ".py",
   "mimetype": "text/x-python",
   "name": "python",
   "nbconvert_exporter": "python",
   "pygments_lexer": "ipython3",
   "version": "3.7.6"
  }
 },
 "nbformat": 4,
 "nbformat_minor": 4
}
